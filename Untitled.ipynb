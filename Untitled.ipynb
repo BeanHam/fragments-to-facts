{
 "cells": [
  {
   "cell_type": "code",
   "execution_count": 1,
   "id": "4894c1e2-4d80-4a40-9b82-1bc0924b4a75",
   "metadata": {},
   "outputs": [],
   "source": [
    "import json\n",
    "import argparse\n",
    "from os import path\n",
    "from tqdm import tqdm\n",
    "from together import Together\n",
    "from utils import *\n",
    "\n",
    "def add_shadow_model_probs_single(value, token_label, prompt, client, shadow_model_endpoints, is_star=True):\n",
    "    data_key = 'y_stars' if is_star else 'y_NON_stars'\n",
    "\n",
    "    if 'ents_prob' in value[data_key][token_label]:\n",
    "        remaining_ents = list(value[data_key][token_label]['ents_prob'].keys())\n",
    "    else:\n",
    "        remaining_ents = []\n",
    "    \n",
    "    if 'shadow_models' not in value[data_key][token_label]:\n",
    "        value[data_key][token_label]['shadow_models'] = []\n",
    "    if 'shadow_ents_prob' not in value[data_key][token_label]:\n",
    "        value[data_key][token_label]['shadow_ents_prob'] = []\n",
    "        \n",
    "    #for sm_endpoint in tqdm(shadow_model_endpoints, desc=\"shadow model endpoints\", leave=False):\n",
    "    for sm_endpoint in shadow_model_endpoints:\n",
    "        sm_prob_gen = GenerateNextTokenProbAPI(client, sm_endpoint)\n",
    "        max_tokens=len(sm_prob_gen.tokenizer(prompt)['input_ids'])+10\n",
    "        # sm_prob = compute_token_probs_api(token_label, prompt, sm_prob_gen, max_tokens)\n",
    "\n",
    "        sm_result = sm_prob_gen.get_token_probs(\n",
    "            prompt=prompt,\n",
    "            target_string=token_label,\n",
    "            remaining_ents=remaining_ents,\n",
    "            max_tokens=max_tokens\n",
    "        )\n",
    "\n",
    "        if sm_result == -1:\n",
    "            target_prob = -1.0\n",
    "            ents_prob = {}\n",
    "        else:\n",
    "            target_prob = float(sm_result[\"target_prob\"])\n",
    "            ents_prob = {ent: float(prob) for ent, prob in sm_result[\"ents_prob\"].items()}\n",
    "\n",
    "        # value[data_key][token_label]['shadow_models'].append(float(sm_prob))\n",
    "        value[data_key][token_label]['shadow_models'].append(target_prob)\n",
    "        value[data_key][token_label]['shadow_ents_prob'].append(ents_prob)\n",
    "\n",
    "\n",
    "def add_model_probs(results, client, world_model_endpoints, shadow_model_endpoints, model_type='world'):\n",
    "    for t_id, value in tqdm(results.items(), desc=\"processing results\"):\n",
    "        print(f\"processing {t_id}\")\n",
    "        y_stars_order = list(value['y_stars'].keys())\n",
    "        y_non_stars_order = list(value['y_NON_stars'].keys())\n",
    "\n",
    "        # y_stars \n",
    "        for y_star in tqdm(y_stars_order, leave=True, desc=\"processing y_stars\"):\n",
    "            prompt = value['y_stars'][y_star]['prompt']\n",
    "            if model_type == 'world':\n",
    "                add_world_model_probs_single(value, y_star, prompt, client, world_model_endpoints, is_star=True)\n",
    "            else:\n",
    "                add_shadow_model_probs_single(value, y_star, prompt, client, shadow_model_endpoints, is_star=True)\n",
    "\n",
    "        # y_non_stars \n",
    "        for y_non_star in tqdm(y_non_stars_order, leave=True, desc=\"processing y_non_stars\"):\n",
    "            prompt = value['y_NON_stars'][y_non_star]['prompt']\n",
    "            if model_type == 'world':\n",
    "                add_world_model_probs_single(value, y_non_star, prompt, client, world_model_endpoints, is_star=False)\n",
    "            else:\n",
    "                add_shadow_model_probs_single(value, y_non_star, prompt, client, shadow_model_endpoints, is_star=False)"
   ]
  },
  {
   "cell_type": "code",
   "execution_count": 2,
   "id": "9acf1b03-3715-4f62-b128-f7b4d96109a3",
   "metadata": {},
   "outputs": [],
   "source": [
    "#-------------------\n",
    "# Parameters\n",
    "#-------------------    \n",
    "parser = argparse.ArgumentParser()\n",
    "parser.add_argument('--save_dir', type=str, default='probs/')\n",
    "parser.add_argument('--model_tag', type=str, default='llama')\n",
    "parser.add_argument('--together_key', type=str)\n",
    "args = parser.parse_args(args=[])\n",
    "args.together_key=\"779d92de61a5035835e5023ca79e2e5b6124c6300c3ceb0e07e374f948554116\""
   ]
  },
  {
   "cell_type": "code",
   "execution_count": 4,
   "id": "a548ac21-0140-48bb-b15c-74a209db56c6",
   "metadata": {},
   "outputs": [
    {
     "name": "stdin",
     "output_type": "stream",
     "text": [
      "Please deploy the following model bh193/Meta-Llama-3.1-8B-Instruct-Reference-b94c936b-e5686d65. The deployment might take up to 10 mins. Once the model is deployed, please proceed... \n"
     ]
    },
    {
     "data": {
      "text/plain": [
       "''"
      ]
     },
     "execution_count": 4,
     "metadata": {},
     "output_type": "execute_result"
    }
   ],
   "source": [
    "## log in together ai & hugginface\n",
    "with open('model_map.json') as f:\n",
    "    model_map=json.load(f)\n",
    "with open(path.join(args.save_dir, f'{args.model_tag}_probs_prompt_{PROMPT_TO_USE}.json'), 'r') as f:\n",
    "    all_probs = json.load(f)\n",
    "client = Together(api_key=args.together_key)\n",
    "shadow_model_api_keys = model_map[args.model_tag]['shadow']['api_key']\n",
    "input(f\"Please deploy the following model {shadow_model_api_keys}. The deployment might take up to 10 mins. Once the model is deployed, please proceed...\")"
   ]
  },
  {
   "cell_type": "code",
   "execution_count": null,
   "id": "aa7a143d-1954-40d9-a887-9bccc4cf0a98",
   "metadata": {},
   "outputs": [],
   "source": [
    "print('Add Shadow Probs...')\n",
    "add_model_probs(all_probs, client, [], shadow_model_api_keys, model_type='shadow')"
   ]
  }
 ],
 "metadata": {
  "kernelspec": {
   "display_name": "Python 3 (ipykernel)",
   "language": "python",
   "name": "python3"
  },
  "language_info": {
   "codemirror_mode": {
    "name": "ipython",
    "version": 3
   },
   "file_extension": ".py",
   "mimetype": "text/x-python",
   "name": "python",
   "nbconvert_exporter": "python",
   "pygments_lexer": "ipython3",
   "version": "3.10.15"
  }
 },
 "nbformat": 4,
 "nbformat_minor": 5
}
