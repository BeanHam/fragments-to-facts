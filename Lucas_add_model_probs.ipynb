{
 "cells": [
  {
   "cell_type": "code",
   "execution_count": 2,
   "id": "f99377c1",
   "metadata": {},
   "outputs": [],
   "source": [
    "import json\n",
    "from tqdm import tqdm\n",
    "from together import Together\n",
    "from utils import *"
   ]
  },
  {
   "cell_type": "code",
   "execution_count": 3,
   "id": "9c7ee2ad",
   "metadata": {},
   "outputs": [],
   "source": [
    "def add_world_model_probs_single(value, token_label, prompt, client, world_model_endpoints, is_star=True):\n",
    "    data_key = 'y_stars' if is_star else 'y_NON_stars'\n",
    "    \n",
    "    if 'ents_prob' in value[data_key][token_label]:\n",
    "        remaining_ents = list(value[data_key][token_label]['ents_prob'].keys())\n",
    "    else:\n",
    "        remaining_ents = []\n",
    "\n",
    "    if 'world_models' not in value[data_key][token_label]:\n",
    "        value[data_key][token_label]['world_models'] = []\n",
    "    if 'world_ents_prob' not in value[data_key][token_label]:\n",
    "        value[data_key][token_label]['world_ents_prob'] = []\n",
    "        \n",
    "    #for wm_endpoint in tqdm(world_model_endpoints, desc=\"world model endpoints\", leave=False):\n",
    "    for wm_endpoint in world_model_endpoints:\n",
    "        wm_prob_gen = GenerateNextTokenProbAPI(client, wm_endpoint)\n",
    "        max_tokens=len(wm_prob_gen.tokenizer(prompt)['input_ids'])+10\n",
    "        # wm_prob = compute_token_probs_api(token_label, prompt, wm_prob_gen, max_tokens)\n",
    "        wm_result = wm_prob_gen.get_token_probs(\n",
    "            prompt=prompt,\n",
    "            target_string=token_label,\n",
    "            remaining_ents=remaining_ents,\n",
    "            max_tokens=max_tokens\n",
    "        )\n",
    "\n",
    "        if wm_result == -1:\n",
    "            # if the target span wasn't found\n",
    "            target_prob = -1.0\n",
    "            ents_prob = {}\n",
    "        else:\n",
    "            target_prob = float(wm_result[\"target_prob\"])\n",
    "            ents_prob = {ent: float(prob) for ent, prob in wm_result[\"ents_prob\"].items()}\n",
    "\n",
    "        # value[data_key][token_label]['world_models'].append(float(wm_prob))\n",
    "        value[data_key][token_label]['world_models'].append(target_prob)\n",
    "        value[data_key][token_label]['world_ents_prob'].append(ents_prob)\n",
    "\n",
    "def add_shadow_model_probs_single(value, token_label, prompt, client, shadow_model_endpoints, is_star=True):\n",
    "    data_key = 'y_stars' if is_star else 'y_NON_stars'\n",
    "\n",
    "    if 'ents_prob' in value[data_key][token_label]:\n",
    "        remaining_ents = list(value[data_key][token_label]['ents_prob'].keys())\n",
    "    else:\n",
    "        remaining_ents = []\n",
    "    \n",
    "    if 'shadow_models' not in value[data_key][token_label]:\n",
    "        value[data_key][token_label]['shadow_models'] = []\n",
    "    if 'shadow_ents_prob' not in value[data_key][token_label]:\n",
    "        value[data_key][token_label]['shadow_ents_prob'] = []\n",
    "        \n",
    "    #for sm_endpoint in tqdm(shadow_model_endpoints, desc=\"shadow model endpoints\", leave=False):\n",
    "    for sm_endpoint in shadow_model_endpoints:\n",
    "        sm_prob_gen = GenerateNextTokenProbAPI(client, sm_endpoint)\n",
    "        max_tokens=len(sm_prob_gen.tokenizer(prompt)['input_ids'])+10\n",
    "        # sm_prob = compute_token_probs_api(token_label, prompt, sm_prob_gen, max_tokens)\n",
    "\n",
    "        sm_result = sm_prob_gen.get_token_probs(\n",
    "            prompt=prompt,\n",
    "            target_string=token_label,\n",
    "            remaining_ents=remaining_ents,\n",
    "            max_tokens=max_tokens\n",
    "        )\n",
    "\n",
    "        if sm_result == -1:\n",
    "            target_prob = -1.0\n",
    "            ents_prob = {}\n",
    "        else:\n",
    "            target_prob = float(sm_result[\"target_prob\"])\n",
    "            ents_prob = {ent: float(prob) for ent, prob in sm_result[\"ents_prob\"].items()}\n",
    "\n",
    "        # value[data_key][token_label]['shadow_models'].append(float(sm_prob))\n",
    "        value[data_key][token_label]['shadow_models'].append(target_prob)\n",
    "        value[data_key][token_label]['shadow_ents_prob'].append(ents_prob)\n",
    "\n",
    "\n",
    "def add_model_probs(results, client, world_model_endpoints, shadow_model_endpoints, model_type='world'):\n",
    "    for t_id, value in tqdm(results.items(), desc=\"processing results\"):\n",
    "        print(f\"processing {t_id}\")\n",
    "        y_stars_order = list(value['y_stars'].keys())\n",
    "        y_non_stars_order = list(value['y_NON_stars'].keys())\n",
    "\n",
    "        # y_stars \n",
    "        for y_star in tqdm(y_stars_order, leave=True, desc=\"processing y_stars\"):\n",
    "            prompt = value['y_stars'][y_star]['prompt']\n",
    "            if model_type == 'world':\n",
    "                add_world_model_probs_single(value, y_star, prompt, client, world_model_endpoints, is_star=True)\n",
    "            else:\n",
    "                add_shadow_model_probs_single(value, y_star, prompt, client, shadow_model_endpoints, is_star=True)\n",
    "\n",
    "        # y_non_stars \n",
    "        for y_non_star in tqdm(y_non_stars_order, leave=True, desc=\"processing y_non_stars\"):\n",
    "            prompt = value['y_NON_stars'][y_non_star]['prompt']\n",
    "            if model_type == 'world':\n",
    "                add_world_model_probs_single(value, y_non_star, prompt, client, world_model_endpoints, is_star=False)\n",
    "            else:\n",
    "                add_shadow_model_probs_single(value, y_non_star, prompt, client, shadow_model_endpoints, is_star=False)"
   ]
  },
  {
   "cell_type": "code",
   "execution_count": 4,
   "id": "979f9e16",
   "metadata": {},
   "outputs": [
    {
     "data": {
      "text/plain": [
       "['bh193/Meta-Llama-3.1-8B-Instruct-Reference-507a0658-fa62ab3e']"
      ]
     },
     "execution_count": 4,
     "metadata": {},
     "output_type": "execute_result"
    }
   ],
   "source": [
    "id=3\n",
    "with open('model_map.json') as f:\n",
    "    model_map=json.load(f)\n",
    "shadow_model_endpoints=[model_map[f'shadow_train_{id}']['api_key']]\n",
    "shadow_model_endpoints"
   ]
  },
  {
   "cell_type": "code",
   "execution_count": 5,
   "id": "aa8e2603",
   "metadata": {},
   "outputs": [],
   "source": [
    "with open(f'target_token_probs_train_{id}_10_epochs_prompt_2.json', 'r') as f:\n",
    "    all_model_probs = json.load(f)    \n",
    "key = '779d92de61a5035835e5023ca79e2e5b6124c6300c3ceb0e07e374f948554116'\n",
    "client = Together(api_key=key)\n",
    "world_model_endpoints = [\n",
    "    \"google/gemma-2b-it\",\n",
    "    \"meta-llama/Meta-Llama-3.1-8B-Instruct-Turbo\",\n",
    "    'mistralai/Mistral-7B-Instruct-v0.2'\n",
    "]"
   ]
  },
  {
   "cell_type": "code",
   "execution_count": 6,
   "id": "ae104095",
   "metadata": {
    "scrolled": true
   },
   "outputs": [
    {
     "name": "stderr",
     "output_type": "stream",
     "text": [
      "processing results:   0%|          | 0/100 [00:00<?, ?it/s]"
     ]
    },
    {
     "name": "stdout",
     "output_type": "stream",
     "text": [
      "processing train_1\n"
     ]
    },
    {
     "name": "stderr",
     "output_type": "stream",
     "text": [
      "processing y_stars: 100%|██████████| 7/7 [00:07<00:00,  1.08s/it]\n",
      "processing y_non_stars: 100%|██████████| 7/7 [00:07<00:00,  1.13s/it]\n",
      "processing results:   1%|          | 1/100 [00:15<25:29, 15.45s/it]"
     ]
    },
    {
     "name": "stdout",
     "output_type": "stream",
     "text": [
      "processing train_17\n"
     ]
    },
    {
     "name": "stderr",
     "output_type": "stream",
     "text": [
      "processing y_stars: 100%|██████████| 6/6 [00:05<00:00,  1.06it/s]\n",
      "processing y_non_stars: 100%|██████████| 6/6 [00:06<00:00,  1.05s/it]\n",
      "processing results:   2%|▏         | 2/100 [00:27<21:53, 13.40s/it]"
     ]
    },
    {
     "name": "stdout",
     "output_type": "stream",
     "text": [
      "processing train_34\n"
     ]
    },
    {
     "name": "stderr",
     "output_type": "stream",
     "text": [
      "processing y_stars: 100%|██████████| 5/5 [00:04<00:00,  1.16it/s]\n",
      "processing y_non_stars: 100%|██████████| 5/5 [00:04<00:00,  1.03it/s]\n",
      "processing results:   3%|▎         | 3/100 [00:36<18:33, 11.48s/it]"
     ]
    },
    {
     "name": "stdout",
     "output_type": "stream",
     "text": [
      "processing train_38\n"
     ]
    },
    {
     "name": "stderr",
     "output_type": "stream",
     "text": [
      "processing y_stars: 100%|██████████| 5/5 [00:04<00:00,  1.01it/s]\n",
      "processing y_non_stars: 100%|██████████| 5/5 [00:04<00:00,  1.00it/s]\n",
      "processing results:   4%|▍         | 4/100 [00:46<17:24, 10.88s/it]"
     ]
    },
    {
     "name": "stdout",
     "output_type": "stream",
     "text": [
      "processing train_84\n"
     ]
    },
    {
     "name": "stderr",
     "output_type": "stream",
     "text": [
      "processing y_stars: 100%|██████████| 5/5 [00:05<00:00,  1.06s/it]\n",
      "processing y_non_stars: 100%|██████████| 5/5 [00:05<00:00,  1.01s/it]\n",
      "processing results:   5%|▌         | 5/100 [00:56<16:55, 10.69s/it]"
     ]
    },
    {
     "name": "stdout",
     "output_type": "stream",
     "text": [
      "processing train_99\n"
     ]
    },
    {
     "name": "stderr",
     "output_type": "stream",
     "text": [
      "processing y_stars: 100%|██████████| 5/5 [00:04<00:00,  1.13it/s]\n",
      "processing y_non_stars: 100%|██████████| 5/5 [00:04<00:00,  1.01it/s]\n",
      "processing results:   6%|▌         | 6/100 [01:06<16:03, 10.25s/it]"
     ]
    },
    {
     "name": "stdout",
     "output_type": "stream",
     "text": [
      "processing train_130\n"
     ]
    },
    {
     "name": "stderr",
     "output_type": "stream",
     "text": [
      "processing y_stars: 100%|██████████| 9/9 [00:09<00:00,  1.07s/it]\n",
      "processing y_non_stars: 100%|██████████| 9/9 [00:09<00:00,  1.07s/it]\n",
      "processing results:   7%|▋         | 7/100 [01:25<20:24, 13.17s/it]"
     ]
    },
    {
     "name": "stdout",
     "output_type": "stream",
     "text": [
      "processing train_133\n"
     ]
    },
    {
     "name": "stderr",
     "output_type": "stream",
     "text": [
      "processing y_stars: 100%|██████████| 5/5 [00:04<00:00,  1.08it/s]\n",
      "processing y_non_stars: 100%|██████████| 5/5 [00:05<00:00,  1.14s/it]\n",
      "processing results:   8%|▊         | 8/100 [01:35<18:48, 12.26s/it]"
     ]
    },
    {
     "name": "stdout",
     "output_type": "stream",
     "text": [
      "processing train_140\n"
     ]
    },
    {
     "name": "stderr",
     "output_type": "stream",
     "text": [
      "processing y_stars: 100%|██████████| 8/8 [00:08<00:00,  1.09s/it]\n",
      "processing y_non_stars: 100%|██████████| 8/8 [00:08<00:00,  1.04s/it]\n",
      "processing results:   9%|▉         | 9/100 [01:52<20:51, 13.75s/it]"
     ]
    },
    {
     "name": "stdout",
     "output_type": "stream",
     "text": [
      "processing train_141\n"
     ]
    },
    {
     "name": "stderr",
     "output_type": "stream",
     "text": [
      "processing y_stars: 100%|██████████| 9/9 [00:10<00:00,  1.12s/it]\n",
      "processing y_non_stars: 100%|██████████| 9/9 [00:09<00:00,  1.08s/it]\n",
      "processing results:  10%|█         | 10/100 [02:12<23:25, 15.62s/it]"
     ]
    },
    {
     "name": "stdout",
     "output_type": "stream",
     "text": [
      "processing train_146\n"
     ]
    },
    {
     "name": "stderr",
     "output_type": "stream",
     "text": [
      "processing y_stars: 100%|██████████| 5/5 [00:04<00:00,  1.06it/s]\n",
      "processing y_non_stars: 100%|██████████| 5/5 [00:04<00:00,  1.08it/s]\n",
      "processing results:  11%|█         | 11/100 [02:21<20:19, 13.70s/it]"
     ]
    },
    {
     "name": "stdout",
     "output_type": "stream",
     "text": [
      "processing train_183\n"
     ]
    },
    {
     "name": "stderr",
     "output_type": "stream",
     "text": [
      "processing y_stars: 100%|██████████| 5/5 [00:04<00:00,  1.06it/s]\n",
      "processing y_non_stars: 100%|██████████| 5/5 [00:04<00:00,  1.05it/s]\n",
      "processing results:  12%|█▏        | 12/100 [02:31<18:13, 12.42s/it]"
     ]
    },
    {
     "name": "stdout",
     "output_type": "stream",
     "text": [
      "processing train_184\n"
     ]
    },
    {
     "name": "stderr",
     "output_type": "stream",
     "text": [
      "processing y_stars: 100%|██████████| 13/13 [00:16<00:00,  1.25s/it]\n",
      "processing y_non_stars: 100%|██████████| 13/13 [00:15<00:00,  1.23s/it]\n",
      "processing results:  13%|█▎        | 13/100 [03:03<26:40, 18.40s/it]"
     ]
    },
    {
     "name": "stdout",
     "output_type": "stream",
     "text": [
      "processing train_197\n"
     ]
    },
    {
     "name": "stderr",
     "output_type": "stream",
     "text": [
      "processing y_stars: 100%|██████████| 5/5 [00:05<00:00,  1.01s/it]\n",
      "processing y_non_stars: 100%|██████████| 5/5 [00:05<00:00,  1.03s/it]\n",
      "processing results:  14%|█▍        | 14/100 [03:13<22:49, 15.93s/it]"
     ]
    },
    {
     "name": "stdout",
     "output_type": "stream",
     "text": [
      "processing train_239\n"
     ]
    },
    {
     "name": "stderr",
     "output_type": "stream",
     "text": [
      "processing y_stars: 100%|██████████| 5/5 [00:04<00:00,  1.03it/s]\n",
      "processing y_non_stars: 100%|██████████| 5/5 [00:05<00:00,  1.05s/it]\n",
      "processing results:  15%|█▌        | 15/100 [03:23<20:05, 14.18s/it]"
     ]
    },
    {
     "name": "stdout",
     "output_type": "stream",
     "text": [
      "processing train_241\n"
     ]
    },
    {
     "name": "stderr",
     "output_type": "stream",
     "text": [
      "processing y_stars: 100%|██████████| 7/7 [00:07<00:00,  1.02s/it]\n",
      "processing y_non_stars: 100%|██████████| 7/7 [00:06<00:00,  1.02it/s]\n",
      "processing results:  16%|█▌        | 16/100 [03:37<19:46, 14.12s/it]"
     ]
    },
    {
     "name": "stdout",
     "output_type": "stream",
     "text": [
      "processing train_247\n"
     ]
    },
    {
     "name": "stderr",
     "output_type": "stream",
     "text": [
      "processing y_stars: 100%|██████████| 6/6 [00:05<00:00,  1.05it/s]\n",
      "processing y_non_stars: 100%|██████████| 6/6 [00:05<00:00,  1.02it/s]\n",
      "processing results:  17%|█▋        | 17/100 [03:49<18:29, 13.37s/it]"
     ]
    },
    {
     "name": "stdout",
     "output_type": "stream",
     "text": [
      "processing train_254\n"
     ]
    },
    {
     "name": "stderr",
     "output_type": "stream",
     "text": [
      "processing y_stars: 100%|██████████| 5/5 [00:04<00:00,  1.08it/s]\n",
      "processing y_non_stars: 100%|██████████| 5/5 [00:04<00:00,  1.04it/s]\n",
      "processing results:  18%|█▊        | 18/100 [03:59<16:40, 12.20s/it]"
     ]
    },
    {
     "name": "stdout",
     "output_type": "stream",
     "text": [
      "processing train_262\n"
     ]
    },
    {
     "name": "stderr",
     "output_type": "stream",
     "text": [
      "processing y_stars: 100%|██████████| 5/5 [00:05<00:00,  1.08s/it]\n",
      "processing y_non_stars: 100%|██████████| 5/5 [00:05<00:00,  1.06s/it]\n",
      "processing results:  19%|█▉        | 19/100 [04:09<15:51, 11.75s/it]"
     ]
    },
    {
     "name": "stdout",
     "output_type": "stream",
     "text": [
      "processing train_275\n"
     ]
    },
    {
     "name": "stderr",
     "output_type": "stream",
     "text": [
      "processing y_stars: 100%|██████████| 8/8 [00:08<00:00,  1.06s/it]\n",
      "processing y_non_stars: 100%|██████████| 8/8 [00:08<00:00,  1.04s/it]\n",
      "processing results:  20%|██        | 20/100 [04:26<17:40, 13.26s/it]"
     ]
    },
    {
     "name": "stdout",
     "output_type": "stream",
     "text": [
      "processing train_306\n"
     ]
    },
    {
     "name": "stderr",
     "output_type": "stream",
     "text": [
      "processing y_stars: 100%|██████████| 6/6 [00:05<00:00,  1.10it/s]\n",
      "processing y_non_stars: 100%|██████████| 6/6 [00:06<00:00,  1.05s/it]\n",
      "processing results:  21%|██        | 21/100 [04:38<16:52, 12.81s/it]"
     ]
    },
    {
     "name": "stdout",
     "output_type": "stream",
     "text": [
      "processing train_307\n"
     ]
    },
    {
     "name": "stderr",
     "output_type": "stream",
     "text": [
      "processing y_stars: 100%|██████████| 5/5 [00:04<00:00,  1.04it/s]\n",
      "processing y_non_stars: 100%|██████████| 5/5 [00:05<00:00,  1.04s/it]\n",
      "processing results:  22%|██▏       | 22/100 [04:48<15:33, 11.97s/it]"
     ]
    },
    {
     "name": "stdout",
     "output_type": "stream",
     "text": [
      "processing train_322\n"
     ]
    },
    {
     "name": "stderr",
     "output_type": "stream",
     "text": [
      "processing y_stars: 100%|██████████| 7/7 [00:07<00:00,  1.04s/it]\n",
      "processing y_non_stars: 100%|██████████| 7/7 [00:06<00:00,  1.05it/s]\n",
      "processing results:  23%|██▎       | 23/100 [05:02<16:06, 12.55s/it]"
     ]
    },
    {
     "name": "stdout",
     "output_type": "stream",
     "text": [
      "processing train_329\n"
     ]
    },
    {
     "name": "stderr",
     "output_type": "stream",
     "text": [
      "processing y_stars: 100%|██████████| 7/7 [00:07<00:00,  1.05s/it]\n",
      "processing y_non_stars: 100%|██████████| 7/7 [00:07<00:00,  1.00s/it]\n",
      "processing results:  24%|██▍       | 24/100 [05:16<16:34, 13.09s/it]"
     ]
    },
    {
     "name": "stdout",
     "output_type": "stream",
     "text": [
      "processing train_336\n"
     ]
    },
    {
     "name": "stderr",
     "output_type": "stream",
     "text": [
      "processing y_stars: 100%|██████████| 6/6 [00:05<00:00,  1.06it/s]\n",
      "processing y_non_stars: 100%|██████████| 6/6 [00:06<00:00,  1.03s/it]\n",
      "processing results:  25%|██▌       | 25/100 [05:28<15:53, 12.71s/it]"
     ]
    },
    {
     "name": "stdout",
     "output_type": "stream",
     "text": [
      "processing train_338\n"
     ]
    },
    {
     "name": "stderr",
     "output_type": "stream",
     "text": [
      "processing y_stars: 100%|██████████| 9/9 [00:09<00:00,  1.03s/it]\n",
      "processing y_non_stars: 100%|██████████| 9/9 [00:09<00:00,  1.10s/it]\n",
      "processing results:  26%|██▌       | 26/100 [05:47<18:04, 14.66s/it]"
     ]
    },
    {
     "name": "stdout",
     "output_type": "stream",
     "text": [
      "processing train_355\n"
     ]
    },
    {
     "name": "stderr",
     "output_type": "stream",
     "text": [
      "processing y_stars: 100%|██████████| 9/9 [00:09<00:00,  1.06s/it]\n",
      "processing y_non_stars: 100%|██████████| 9/9 [00:10<00:00,  1.15s/it]\n",
      "processing results:  27%|██▋       | 27/100 [06:07<19:45, 16.24s/it]"
     ]
    },
    {
     "name": "stdout",
     "output_type": "stream",
     "text": [
      "processing train_356\n"
     ]
    },
    {
     "name": "stderr",
     "output_type": "stream",
     "text": [
      "processing y_stars: 100%|██████████| 5/5 [00:04<00:00,  1.04it/s]\n",
      "processing y_non_stars: 100%|██████████| 5/5 [00:05<00:00,  1.01s/it]\n",
      "processing results:  28%|██▊       | 28/100 [06:17<17:12, 14.33s/it]"
     ]
    },
    {
     "name": "stdout",
     "output_type": "stream",
     "text": [
      "processing train_359\n"
     ]
    },
    {
     "name": "stderr",
     "output_type": "stream",
     "text": [
      "processing y_stars: 100%|██████████| 6/6 [00:05<00:00,  1.20it/s]\n",
      "processing y_non_stars: 100%|██████████| 6/6 [00:05<00:00,  1.04it/s]\n",
      "processing results:  29%|██▉       | 29/100 [06:28<15:42, 13.27s/it]"
     ]
    },
    {
     "name": "stdout",
     "output_type": "stream",
     "text": [
      "processing train_365\n"
     ]
    },
    {
     "name": "stderr",
     "output_type": "stream",
     "text": [
      "processing y_stars: 100%|██████████| 6/6 [00:05<00:00,  1.04it/s]\n",
      "processing y_non_stars: 100%|██████████| 6/6 [00:05<00:00,  1.03it/s]\n",
      "processing results:  30%|███       | 30/100 [06:39<14:53, 12.77s/it]"
     ]
    },
    {
     "name": "stdout",
     "output_type": "stream",
     "text": [
      "processing train_372\n"
     ]
    },
    {
     "name": "stderr",
     "output_type": "stream",
     "text": [
      "processing y_stars: 100%|██████████| 5/5 [00:04<00:00,  1.18it/s]\n",
      "processing y_non_stars: 100%|██████████| 5/5 [00:05<00:00,  1.05s/it]\n",
      "processing results:  31%|███       | 31/100 [06:49<13:32, 11.78s/it]"
     ]
    },
    {
     "name": "stdout",
     "output_type": "stream",
     "text": [
      "processing train_377\n"
     ]
    },
    {
     "name": "stderr",
     "output_type": "stream",
     "text": [
      "processing y_stars: 100%|██████████| 6/6 [00:06<00:00,  1.05s/it]\n",
      "processing y_non_stars: 100%|██████████| 6/6 [00:05<00:00,  1.05it/s]\n",
      "processing results:  32%|███▏      | 32/100 [07:01<13:26, 11.86s/it]"
     ]
    },
    {
     "name": "stdout",
     "output_type": "stream",
     "text": [
      "processing train_379\n"
     ]
    },
    {
     "name": "stderr",
     "output_type": "stream",
     "text": [
      "processing y_stars: 100%|██████████| 5/5 [00:04<00:00,  1.06it/s]\n",
      "processing y_non_stars: 100%|██████████| 5/5 [00:04<00:00,  1.13it/s]\n",
      "processing results:  33%|███▎      | 33/100 [07:10<12:20, 11.05s/it]"
     ]
    },
    {
     "name": "stdout",
     "output_type": "stream",
     "text": [
      "processing train_391\n"
     ]
    },
    {
     "name": "stderr",
     "output_type": "stream",
     "text": [
      "processing y_stars: 100%|██████████| 5/5 [00:04<00:00,  1.03it/s]\n",
      "processing y_non_stars: 100%|██████████| 5/5 [00:05<00:00,  1.14s/it]\n",
      "processing results:  34%|███▍      | 34/100 [07:21<11:59, 10.90s/it]"
     ]
    },
    {
     "name": "stdout",
     "output_type": "stream",
     "text": [
      "processing train_399\n"
     ]
    },
    {
     "name": "stderr",
     "output_type": "stream",
     "text": [
      "processing y_stars: 100%|██████████| 10/10 [00:11<00:00,  1.10s/it]\n",
      "processing y_non_stars: 100%|██████████| 10/10 [00:10<00:00,  1.05s/it]\n",
      "processing results:  35%|███▌      | 35/100 [07:42<15:15, 14.09s/it]"
     ]
    },
    {
     "name": "stdout",
     "output_type": "stream",
     "text": [
      "processing train_414\n"
     ]
    },
    {
     "name": "stderr",
     "output_type": "stream",
     "text": [
      "processing y_stars: 100%|██████████| 9/9 [00:10<00:00,  1.13s/it]\n",
      "processing y_non_stars: 100%|██████████| 9/9 [00:09<00:00,  1.05s/it]\n",
      "processing results:  36%|███▌      | 36/100 [08:02<16:49, 15.77s/it]"
     ]
    },
    {
     "name": "stdout",
     "output_type": "stream",
     "text": [
      "processing train_419\n"
     ]
    },
    {
     "name": "stderr",
     "output_type": "stream",
     "text": [
      "processing y_stars: 100%|██████████| 5/5 [00:04<00:00,  1.08it/s]\n",
      "processing y_non_stars: 100%|██████████| 5/5 [00:04<00:00,  1.01it/s]\n",
      "processing results:  37%|███▋      | 37/100 [08:11<14:36, 13.91s/it]"
     ]
    },
    {
     "name": "stdout",
     "output_type": "stream",
     "text": [
      "processing train_438\n"
     ]
    },
    {
     "name": "stderr",
     "output_type": "stream",
     "text": [
      "processing y_stars: 100%|██████████| 6/6 [00:05<00:00,  1.14it/s]\n",
      "processing y_non_stars: 100%|██████████| 6/6 [00:05<00:00,  1.06it/s]\n",
      "processing results:  38%|███▊      | 38/100 [08:22<13:26, 13.01s/it]"
     ]
    },
    {
     "name": "stdout",
     "output_type": "stream",
     "text": [
      "processing train_441\n"
     ]
    },
    {
     "name": "stderr",
     "output_type": "stream",
     "text": [
      "processing y_stars: 100%|██████████| 5/5 [00:04<00:00,  1.01it/s]\n",
      "processing y_non_stars: 100%|██████████| 5/5 [00:04<00:00,  1.08it/s]\n",
      "processing results:  39%|███▉      | 39/100 [08:32<12:10, 11.98s/it]"
     ]
    },
    {
     "name": "stdout",
     "output_type": "stream",
     "text": [
      "processing train_449\n"
     ]
    },
    {
     "name": "stderr",
     "output_type": "stream",
     "text": [
      "processing y_stars: 100%|██████████| 9/9 [00:08<00:00,  1.04it/s]\n",
      "processing y_non_stars: 100%|██████████| 9/9 [00:08<00:00,  1.02it/s]\n",
      "processing results:  40%|████      | 40/100 [08:49<13:37, 13.63s/it]"
     ]
    },
    {
     "name": "stdout",
     "output_type": "stream",
     "text": [
      "processing train_454\n"
     ]
    },
    {
     "name": "stderr",
     "output_type": "stream",
     "text": [
      "processing y_stars: 100%|██████████| 9/9 [00:10<00:00,  1.12s/it]\n",
      "processing y_non_stars: 100%|██████████| 9/9 [00:10<00:00,  1.15s/it]\n",
      "processing results:  41%|████      | 41/100 [09:10<15:25, 15.69s/it]"
     ]
    },
    {
     "name": "stdout",
     "output_type": "stream",
     "text": [
      "processing train_465\n"
     ]
    },
    {
     "name": "stderr",
     "output_type": "stream",
     "text": [
      "processing y_stars: 100%|██████████| 7/7 [00:06<00:00,  1.01it/s]\n",
      "processing y_non_stars: 100%|██████████| 7/7 [00:07<00:00,  1.14s/it]\n",
      "processing results:  42%|████▏     | 42/100 [09:25<14:56, 15.45s/it]"
     ]
    },
    {
     "name": "stdout",
     "output_type": "stream",
     "text": [
      "processing train_473\n"
     ]
    },
    {
     "name": "stderr",
     "output_type": "stream",
     "text": [
      "processing y_stars: 100%|██████████| 7/7 [00:06<00:00,  1.04it/s]\n",
      "processing y_non_stars: 100%|██████████| 7/7 [00:07<00:00,  1.02s/it]\n",
      "processing results:  43%|████▎     | 43/100 [09:39<14:14, 14.98s/it]"
     ]
    },
    {
     "name": "stdout",
     "output_type": "stream",
     "text": [
      "processing train_493\n"
     ]
    },
    {
     "name": "stderr",
     "output_type": "stream",
     "text": [
      "processing y_stars: 100%|██████████| 6/6 [00:05<00:00,  1.01it/s]\n",
      "processing y_non_stars: 100%|██████████| 6/6 [00:05<00:00,  1.03it/s]\n",
      "processing results:  44%|████▍     | 44/100 [09:50<13:05, 14.02s/it]"
     ]
    },
    {
     "name": "stdout",
     "output_type": "stream",
     "text": [
      "processing train_496\n"
     ]
    },
    {
     "name": "stderr",
     "output_type": "stream",
     "text": [
      "processing y_stars: 100%|██████████| 8/8 [00:08<00:00,  1.00s/it]\n",
      "processing y_non_stars: 100%|██████████| 8/8 [00:08<00:00,  1.02s/it]\n",
      "processing results:  45%|████▌     | 45/100 [10:07<13:26, 14.66s/it]"
     ]
    },
    {
     "name": "stdout",
     "output_type": "stream",
     "text": [
      "processing train_498\n"
     ]
    },
    {
     "name": "stderr",
     "output_type": "stream",
     "text": [
      "processing y_stars: 100%|██████████| 5/5 [00:05<00:00,  1.06s/it]\n",
      "processing y_non_stars: 100%|██████████| 5/5 [00:05<00:00,  1.06s/it]\n",
      "processing results:  46%|████▌     | 46/100 [10:17<12:06, 13.45s/it]"
     ]
    },
    {
     "name": "stdout",
     "output_type": "stream",
     "text": [
      "processing train_544\n"
     ]
    },
    {
     "name": "stderr",
     "output_type": "stream",
     "text": [
      "processing y_stars: 100%|██████████| 7/7 [00:06<00:00,  1.04it/s]\n",
      "processing y_non_stars: 100%|██████████| 7/7 [00:07<00:00,  1.01s/it]\n",
      "processing results:  47%|████▋     | 47/100 [10:31<11:57, 13.55s/it]"
     ]
    },
    {
     "name": "stdout",
     "output_type": "stream",
     "text": [
      "processing train_549\n"
     ]
    },
    {
     "name": "stderr",
     "output_type": "stream",
     "text": [
      "processing y_stars: 100%|██████████| 7/7 [00:07<00:00,  1.02s/it]\n",
      "processing y_non_stars: 100%|██████████| 7/7 [00:06<00:00,  1.04it/s]\n",
      "processing results:  48%|████▊     | 48/100 [10:45<11:49, 13.65s/it]"
     ]
    },
    {
     "name": "stdout",
     "output_type": "stream",
     "text": [
      "processing train_558\n"
     ]
    },
    {
     "name": "stderr",
     "output_type": "stream",
     "text": [
      "processing y_stars: 100%|██████████| 5/5 [00:05<00:00,  1.04s/it]\n",
      "processing y_non_stars: 100%|██████████| 5/5 [00:04<00:00,  1.02it/s]\n",
      "processing results:  49%|████▉     | 49/100 [10:55<10:41, 12.59s/it]"
     ]
    },
    {
     "name": "stdout",
     "output_type": "stream",
     "text": [
      "processing train_566\n"
     ]
    },
    {
     "name": "stderr",
     "output_type": "stream",
     "text": [
      "processing y_stars: 100%|██████████| 8/8 [00:08<00:00,  1.05s/it]\n",
      "processing y_non_stars: 100%|██████████| 8/8 [00:08<00:00,  1.07s/it]\n",
      "processing results:  50%|█████     | 50/100 [11:12<11:35, 13.91s/it]"
     ]
    },
    {
     "name": "stdout",
     "output_type": "stream",
     "text": [
      "processing test_0\n"
     ]
    },
    {
     "name": "stderr",
     "output_type": "stream",
     "text": [
      "processing y_stars: 100%|██████████| 11/11 [00:11<00:00,  1.02s/it]\n",
      "processing y_non_stars: 100%|██████████| 11/11 [00:12<00:00,  1.10s/it]\n",
      "processing results:  51%|█████     | 51/100 [11:35<13:39, 16.72s/it]"
     ]
    },
    {
     "name": "stdout",
     "output_type": "stream",
     "text": [
      "processing test_11\n"
     ]
    },
    {
     "name": "stderr",
     "output_type": "stream",
     "text": [
      "processing y_stars: 100%|██████████| 10/10 [00:10<00:00,  1.05s/it]\n",
      "processing y_non_stars: 100%|██████████| 10/10 [00:12<00:00,  1.22s/it]\n",
      "processing results:  52%|█████▏    | 52/100 [11:58<14:48, 18.51s/it]"
     ]
    },
    {
     "name": "stdout",
     "output_type": "stream",
     "text": [
      "processing test_20\n"
     ]
    },
    {
     "name": "stderr",
     "output_type": "stream",
     "text": [
      "processing y_stars: 100%|██████████| 5/5 [00:04<00:00,  1.01it/s]\n",
      "processing y_non_stars: 100%|██████████| 5/5 [00:04<00:00,  1.05it/s]\n",
      "processing results:  53%|█████▎    | 53/100 [12:08<12:26, 15.88s/it]"
     ]
    },
    {
     "name": "stdout",
     "output_type": "stream",
     "text": [
      "processing test_36\n"
     ]
    },
    {
     "name": "stderr",
     "output_type": "stream",
     "text": [
      "processing y_stars: 100%|██████████| 10/10 [00:10<00:00,  1.10s/it]\n",
      "processing y_non_stars: 100%|██████████| 10/10 [00:10<00:00,  1.09s/it]\n",
      "processing results:  54%|█████▍    | 54/100 [12:30<13:33, 17.69s/it]"
     ]
    },
    {
     "name": "stdout",
     "output_type": "stream",
     "text": [
      "processing test_110\n"
     ]
    },
    {
     "name": "stderr",
     "output_type": "stream",
     "text": [
      "processing y_stars: 100%|██████████| 6/6 [00:06<00:00,  1.03s/it]\n",
      "processing y_non_stars: 100%|██████████| 6/6 [00:05<00:00,  1.04it/s]\n",
      "processing results:  55%|█████▌    | 55/100 [12:42<11:59, 15.98s/it]"
     ]
    },
    {
     "name": "stdout",
     "output_type": "stream",
     "text": [
      "processing test_121\n"
     ]
    },
    {
     "name": "stderr",
     "output_type": "stream",
     "text": [
      "processing y_stars: 100%|██████████| 6/6 [00:06<00:00,  1.07s/it]\n",
      "processing y_non_stars: 100%|██████████| 6/6 [00:06<00:00,  1.04s/it]\n",
      "processing results:  56%|█████▌    | 56/100 [12:54<10:59, 14.99s/it]"
     ]
    },
    {
     "name": "stdout",
     "output_type": "stream",
     "text": [
      "processing test_131\n"
     ]
    },
    {
     "name": "stderr",
     "output_type": "stream",
     "text": [
      "processing y_stars: 100%|██████████| 9/9 [00:08<00:00,  1.03it/s]\n",
      "processing y_non_stars: 100%|██████████| 9/9 [00:09<00:00,  1.03s/it]\n",
      "processing results:  57%|█████▋    | 57/100 [13:12<11:23, 15.89s/it]"
     ]
    },
    {
     "name": "stdout",
     "output_type": "stream",
     "text": [
      "processing test_186\n"
     ]
    },
    {
     "name": "stderr",
     "output_type": "stream",
     "text": [
      "processing y_stars: 100%|██████████| 6/6 [00:06<00:00,  1.01s/it]\n",
      "processing y_non_stars: 100%|██████████| 6/6 [00:06<00:00,  1.01s/it]\n",
      "processing results:  58%|█████▊    | 58/100 [13:24<10:19, 14.75s/it]"
     ]
    },
    {
     "name": "stdout",
     "output_type": "stream",
     "text": [
      "processing test_199\n"
     ]
    },
    {
     "name": "stderr",
     "output_type": "stream",
     "text": [
      "processing y_stars: 100%|██████████| 7/7 [00:06<00:00,  1.04it/s]\n",
      "processing y_non_stars: 100%|██████████| 7/7 [00:07<00:00,  1.12s/it]\n",
      "processing results:  59%|█████▉    | 59/100 [13:39<10:02, 14.69s/it]"
     ]
    },
    {
     "name": "stdout",
     "output_type": "stream",
     "text": [
      "processing test_217\n"
     ]
    },
    {
     "name": "stderr",
     "output_type": "stream",
     "text": [
      "processing y_stars: 100%|██████████| 6/6 [00:06<00:00,  1.06s/it]\n",
      "processing y_non_stars: 100%|██████████| 6/6 [00:06<00:00,  1.03s/it]\n",
      "processing results:  60%|██████    | 60/100 [13:51<09:21, 14.03s/it]"
     ]
    },
    {
     "name": "stdout",
     "output_type": "stream",
     "text": [
      "processing test_223\n"
     ]
    },
    {
     "name": "stderr",
     "output_type": "stream",
     "text": [
      "processing y_stars: 100%|██████████| 6/6 [00:06<00:00,  1.01s/it]\n",
      "processing y_non_stars: 100%|██████████| 6/6 [00:06<00:00,  1.03s/it]\n",
      "processing results:  61%|██████    | 61/100 [14:04<08:46, 13.50s/it]"
     ]
    },
    {
     "name": "stdout",
     "output_type": "stream",
     "text": [
      "processing test_226\n"
     ]
    },
    {
     "name": "stderr",
     "output_type": "stream",
     "text": [
      "processing y_stars: 100%|██████████| 6/6 [00:05<00:00,  1.09it/s]\n",
      "processing y_non_stars: 100%|██████████| 6/6 [00:06<00:00,  1.02s/it]\n",
      "processing results:  62%|██████▏   | 62/100 [14:15<08:12, 12.95s/it]"
     ]
    },
    {
     "name": "stdout",
     "output_type": "stream",
     "text": [
      "processing test_246\n"
     ]
    },
    {
     "name": "stderr",
     "output_type": "stream",
     "text": [
      "processing y_stars: 100%|██████████| 11/11 [00:12<00:00,  1.11s/it]\n",
      "processing y_non_stars: 100%|██████████| 11/11 [00:12<00:00,  1.10s/it]\n",
      "processing results:  63%|██████▎   | 63/100 [14:40<10:06, 16.38s/it]"
     ]
    },
    {
     "name": "stdout",
     "output_type": "stream",
     "text": [
      "processing test_268\n"
     ]
    },
    {
     "name": "stderr",
     "output_type": "stream",
     "text": [
      "processing y_stars: 100%|██████████| 6/6 [00:06<00:00,  1.01s/it]\n",
      "processing y_non_stars: 100%|██████████| 6/6 [00:05<00:00,  1.02it/s]\n",
      "processing results:  64%|██████▍   | 64/100 [14:52<09:02, 15.06s/it]"
     ]
    },
    {
     "name": "stdout",
     "output_type": "stream",
     "text": [
      "processing test_270\n"
     ]
    },
    {
     "name": "stderr",
     "output_type": "stream",
     "text": [
      "processing y_stars: 100%|██████████| 11/11 [00:11<00:00,  1.05s/it]\n",
      "processing y_non_stars: 100%|██████████| 11/11 [00:11<00:00,  1.06s/it]\n",
      "processing results:  65%|██████▌   | 65/100 [15:15<10:12, 17.49s/it]"
     ]
    },
    {
     "name": "stdout",
     "output_type": "stream",
     "text": [
      "processing test_289\n"
     ]
    },
    {
     "name": "stderr",
     "output_type": "stream",
     "text": [
      "processing y_stars: 100%|██████████| 6/6 [00:05<00:00,  1.01it/s]\n",
      "processing y_non_stars: 100%|██████████| 6/6 [00:05<00:00,  1.07it/s]\n",
      "processing results:  66%|██████▌   | 66/100 [15:26<08:53, 15.70s/it]"
     ]
    },
    {
     "name": "stdout",
     "output_type": "stream",
     "text": [
      "processing test_309\n"
     ]
    },
    {
     "name": "stderr",
     "output_type": "stream",
     "text": [
      "processing y_stars: 100%|██████████| 6/6 [00:06<00:00,  1.08s/it]\n",
      "processing y_non_stars: 100%|██████████| 6/6 [00:06<00:00,  1.07s/it]\n",
      "processing results:  67%|██████▋   | 67/100 [15:39<08:10, 14.87s/it]"
     ]
    },
    {
     "name": "stdout",
     "output_type": "stream",
     "text": [
      "processing test_313\n"
     ]
    },
    {
     "name": "stderr",
     "output_type": "stream",
     "text": [
      "processing y_stars: 100%|██████████| 5/5 [00:04<00:00,  1.14it/s]\n",
      "processing y_non_stars: 100%|██████████| 5/5 [00:04<00:00,  1.05it/s]\n",
      "processing results:  68%|██████▊   | 68/100 [15:48<07:01, 13.16s/it]"
     ]
    },
    {
     "name": "stdout",
     "output_type": "stream",
     "text": [
      "processing test_321\n"
     ]
    },
    {
     "name": "stderr",
     "output_type": "stream",
     "text": [
      "processing y_stars: 100%|██████████| 5/5 [00:04<00:00,  1.10it/s]\n",
      "processing y_non_stars: 100%|██████████| 5/5 [00:04<00:00,  1.11it/s]\n",
      "processing results:  69%|██████▉   | 69/100 [15:57<06:09, 11.92s/it]"
     ]
    },
    {
     "name": "stdout",
     "output_type": "stream",
     "text": [
      "processing test_324\n"
     ]
    },
    {
     "name": "stderr",
     "output_type": "stream",
     "text": [
      "processing y_stars: 100%|██████████| 9/9 [00:10<00:00,  1.22s/it]\n",
      "processing y_non_stars: 100%|██████████| 9/9 [00:12<00:00,  1.35s/it]\n",
      "processing results:  70%|███████   | 70/100 [16:21<07:38, 15.27s/it]"
     ]
    },
    {
     "name": "stdout",
     "output_type": "stream",
     "text": [
      "processing test_349\n"
     ]
    },
    {
     "name": "stderr",
     "output_type": "stream",
     "text": [
      "processing y_stars: 100%|██████████| 6/6 [00:06<00:00,  1.03s/it]\n",
      "processing y_non_stars: 100%|██████████| 6/6 [00:05<00:00,  1.07it/s]\n",
      "processing results:  71%|███████   | 71/100 [16:32<06:52, 14.23s/it]"
     ]
    },
    {
     "name": "stdout",
     "output_type": "stream",
     "text": [
      "processing test_358\n"
     ]
    },
    {
     "name": "stderr",
     "output_type": "stream",
     "text": [
      "processing y_stars: 100%|██████████| 6/6 [00:06<00:00,  1.00s/it]\n",
      "processing y_non_stars: 100%|██████████| 6/6 [00:05<00:00,  1.02it/s]\n",
      "processing results:  72%|███████▏  | 72/100 [16:44<06:19, 13.54s/it]"
     ]
    },
    {
     "name": "stdout",
     "output_type": "stream",
     "text": [
      "processing test_376\n"
     ]
    },
    {
     "name": "stderr",
     "output_type": "stream",
     "text": [
      "processing y_stars: 100%|██████████| 5/5 [00:05<00:00,  1.03s/it]\n",
      "processing y_non_stars: 100%|██████████| 5/5 [00:04<00:00,  1.01it/s]\n",
      "processing results:  73%|███████▎  | 73/100 [16:54<05:37, 12.52s/it]"
     ]
    },
    {
     "name": "stdout",
     "output_type": "stream",
     "text": [
      "processing test_384\n"
     ]
    },
    {
     "name": "stderr",
     "output_type": "stream",
     "text": [
      "processing y_stars: 100%|██████████| 8/8 [00:07<00:00,  1.07it/s]\n",
      "processing y_non_stars: 100%|██████████| 8/8 [00:08<00:00,  1.11s/it]\n",
      "processing results:  74%|███████▍  | 74/100 [17:11<05:55, 13.67s/it]"
     ]
    },
    {
     "name": "stdout",
     "output_type": "stream",
     "text": [
      "processing test_395\n"
     ]
    },
    {
     "name": "stderr",
     "output_type": "stream",
     "text": [
      "processing y_stars: 100%|██████████| 12/12 [00:11<00:00,  1.02it/s]\n",
      "processing y_non_stars: 100%|██████████| 12/12 [00:12<00:00,  1.02s/it]\n",
      "processing results:  75%|███████▌  | 75/100 [17:35<06:59, 16.79s/it]"
     ]
    },
    {
     "name": "stdout",
     "output_type": "stream",
     "text": [
      "processing test_396\n"
     ]
    },
    {
     "name": "stderr",
     "output_type": "stream",
     "text": [
      "processing y_stars: 100%|██████████| 5/5 [00:04<00:00,  1.02it/s]\n",
      "processing y_non_stars: 100%|██████████| 5/5 [00:05<00:00,  1.04s/it]\n",
      "processing results:  76%|███████▌  | 76/100 [17:45<05:54, 14.79s/it]"
     ]
    },
    {
     "name": "stdout",
     "output_type": "stream",
     "text": [
      "processing test_408\n"
     ]
    },
    {
     "name": "stderr",
     "output_type": "stream",
     "text": [
      "processing y_stars: 100%|██████████| 33/33 [00:53<00:00,  1.61s/it]\n",
      "processing y_non_stars: 100%|██████████| 33/33 [00:53<00:00,  1.61s/it]\n",
      "processing results:  77%|███████▋  | 77/100 [19:31<16:10, 42.21s/it]"
     ]
    },
    {
     "name": "stdout",
     "output_type": "stream",
     "text": [
      "processing test_418\n"
     ]
    },
    {
     "name": "stderr",
     "output_type": "stream",
     "text": [
      "processing y_stars: 100%|██████████| 6/6 [00:05<00:00,  1.07it/s]\n",
      "processing y_non_stars: 100%|██████████| 6/6 [00:05<00:00,  1.02it/s]\n",
      "processing results:  78%|███████▊  | 78/100 [19:43<12:05, 32.99s/it]"
     ]
    },
    {
     "name": "stdout",
     "output_type": "stream",
     "text": [
      "processing test_434\n"
     ]
    },
    {
     "name": "stderr",
     "output_type": "stream",
     "text": [
      "processing y_stars: 100%|██████████| 5/5 [00:05<00:00,  1.02s/it]\n",
      "processing y_non_stars: 100%|██████████| 5/5 [00:05<00:00,  1.01s/it]\n",
      "processing results:  79%|███████▉  | 79/100 [19:53<09:08, 26.13s/it]"
     ]
    },
    {
     "name": "stdout",
     "output_type": "stream",
     "text": [
      "processing test_469\n"
     ]
    },
    {
     "name": "stderr",
     "output_type": "stream",
     "text": [
      "processing y_stars: 100%|██████████| 12/12 [00:13<00:00,  1.16s/it]\n",
      "processing y_non_stars: 100%|██████████| 12/12 [00:13<00:00,  1.14s/it]\n",
      "processing results:  80%|████████  | 80/100 [20:20<08:51, 26.59s/it]"
     ]
    },
    {
     "name": "stdout",
     "output_type": "stream",
     "text": [
      "processing test_470\n"
     ]
    },
    {
     "name": "stderr",
     "output_type": "stream",
     "text": [
      "processing y_stars: 100%|██████████| 6/6 [00:06<00:00,  1.02s/it]\n",
      "processing y_non_stars: 100%|██████████| 6/6 [00:06<00:00,  1.03s/it]\n",
      "processing results:  81%|████████  | 81/100 [20:33<07:03, 22.30s/it]"
     ]
    },
    {
     "name": "stdout",
     "output_type": "stream",
     "text": [
      "processing test_499\n"
     ]
    },
    {
     "name": "stderr",
     "output_type": "stream",
     "text": [
      "processing y_stars: 100%|██████████| 5/5 [00:04<00:00,  1.06it/s]\n",
      "processing y_non_stars: 100%|██████████| 5/5 [00:05<00:00,  1.04s/it]\n",
      "processing results:  82%|████████▏ | 82/100 [20:43<05:34, 18.59s/it]"
     ]
    },
    {
     "name": "stdout",
     "output_type": "stream",
     "text": [
      "processing test_516\n"
     ]
    },
    {
     "name": "stderr",
     "output_type": "stream",
     "text": [
      "processing y_stars: 100%|██████████| 5/5 [00:04<00:00,  1.06it/s]\n",
      "processing y_non_stars: 100%|██████████| 5/5 [00:04<00:00,  1.08it/s]\n",
      "processing results:  83%|████████▎ | 83/100 [20:52<04:28, 15.81s/it]"
     ]
    },
    {
     "name": "stdout",
     "output_type": "stream",
     "text": [
      "processing test_528\n"
     ]
    },
    {
     "name": "stderr",
     "output_type": "stream",
     "text": [
      "processing y_stars: 100%|██████████| 5/5 [00:04<00:00,  1.06it/s]\n",
      "processing y_non_stars: 100%|██████████| 5/5 [00:04<00:00,  1.00it/s]\n",
      "processing results:  84%|████████▍ | 84/100 [21:02<03:43, 13.98s/it]"
     ]
    },
    {
     "name": "stdout",
     "output_type": "stream",
     "text": [
      "processing test_531\n"
     ]
    },
    {
     "name": "stderr",
     "output_type": "stream",
     "text": [
      "processing y_stars: 100%|██████████| 9/9 [00:08<00:00,  1.02it/s]\n",
      "processing y_non_stars: 100%|██████████| 9/9 [00:08<00:00,  1.01it/s]\n",
      "processing results:  85%|████████▌ | 85/100 [21:19<03:46, 15.12s/it]"
     ]
    },
    {
     "name": "stdout",
     "output_type": "stream",
     "text": [
      "processing test_535\n"
     ]
    },
    {
     "name": "stderr",
     "output_type": "stream",
     "text": [
      "processing y_stars: 100%|██████████| 13/13 [00:14<00:00,  1.15s/it]\n",
      "processing y_non_stars: 100%|██████████| 13/13 [00:14<00:00,  1.14s/it]\n",
      "processing results:  86%|████████▌ | 86/100 [21:49<04:32, 19.49s/it]"
     ]
    },
    {
     "name": "stdout",
     "output_type": "stream",
     "text": [
      "processing test_541\n"
     ]
    },
    {
     "name": "stderr",
     "output_type": "stream",
     "text": [
      "processing y_stars: 100%|██████████| 11/11 [00:12<00:00,  1.16s/it]\n",
      "processing y_non_stars: 100%|██████████| 11/11 [00:11<00:00,  1.05s/it]\n",
      "processing results:  87%|████████▋ | 87/100 [22:13<04:32, 20.94s/it]"
     ]
    },
    {
     "name": "stdout",
     "output_type": "stream",
     "text": [
      "processing test_559\n"
     ]
    },
    {
     "name": "stderr",
     "output_type": "stream",
     "text": [
      "processing y_stars: 100%|██████████| 6/6 [00:06<00:00,  1.11s/it]\n",
      "processing y_non_stars: 100%|██████████| 6/6 [00:06<00:00,  1.06s/it]\n",
      "processing results:  88%|████████▊ | 88/100 [22:26<03:42, 18.56s/it]"
     ]
    },
    {
     "name": "stdout",
     "output_type": "stream",
     "text": [
      "processing test_563\n"
     ]
    },
    {
     "name": "stderr",
     "output_type": "stream",
     "text": [
      "processing y_stars: 100%|██████████| 8/8 [00:08<00:00,  1.07s/it]\n",
      "processing y_non_stars: 100%|██████████| 8/8 [00:08<00:00,  1.03s/it]\n",
      "processing results:  89%|████████▉ | 89/100 [22:43<03:18, 18.03s/it]"
     ]
    },
    {
     "name": "stdout",
     "output_type": "stream",
     "text": [
      "processing test_577\n"
     ]
    },
    {
     "name": "stderr",
     "output_type": "stream",
     "text": [
      "processing y_stars: 100%|██████████| 7/7 [00:07<00:00,  1.01s/it]\n",
      "processing y_non_stars: 100%|██████████| 7/7 [00:06<00:00,  1.03it/s]\n",
      "processing results:  90%|█████████ | 90/100 [22:57<02:47, 16.79s/it]"
     ]
    },
    {
     "name": "stdout",
     "output_type": "stream",
     "text": [
      "processing test_583\n"
     ]
    },
    {
     "name": "stderr",
     "output_type": "stream",
     "text": [
      "processing y_stars: 100%|██████████| 5/5 [00:04<00:00,  1.08it/s]\n",
      "processing y_non_stars: 100%|██████████| 5/5 [00:05<00:00,  1.04s/it]\n",
      "processing results:  91%|█████████ | 91/100 [23:07<02:12, 14.71s/it]"
     ]
    },
    {
     "name": "stdout",
     "output_type": "stream",
     "text": [
      "processing test_586\n"
     ]
    },
    {
     "name": "stderr",
     "output_type": "stream",
     "text": [
      "processing y_stars: 100%|██████████| 10/10 [00:10<00:00,  1.06s/it]\n",
      "processing y_non_stars: 100%|██████████| 10/10 [00:11<00:00,  1.12s/it]\n",
      "processing results:  92%|█████████▏| 92/100 [23:29<02:14, 16.83s/it]"
     ]
    },
    {
     "name": "stdout",
     "output_type": "stream",
     "text": [
      "processing test_592\n"
     ]
    },
    {
     "name": "stderr",
     "output_type": "stream",
     "text": [
      "processing y_stars: 100%|██████████| 6/6 [00:06<00:00,  1.02s/it]\n",
      "processing y_non_stars: 100%|██████████| 6/6 [00:06<00:00,  1.04s/it]\n",
      "processing results:  93%|█████████▎| 93/100 [23:41<01:48, 15.49s/it]"
     ]
    },
    {
     "name": "stdout",
     "output_type": "stream",
     "text": [
      "processing test_599\n"
     ]
    },
    {
     "name": "stderr",
     "output_type": "stream",
     "text": [
      "processing y_stars: 100%|██████████| 7/7 [00:06<00:00,  1.11it/s]\n",
      "processing y_non_stars: 100%|██████████| 7/7 [00:06<00:00,  1.02it/s]\n",
      "processing results:  94%|█████████▍| 94/100 [23:54<01:28, 14.80s/it]"
     ]
    },
    {
     "name": "stdout",
     "output_type": "stream",
     "text": [
      "processing test_606\n"
     ]
    },
    {
     "name": "stderr",
     "output_type": "stream",
     "text": [
      "processing y_stars: 100%|██████████| 11/11 [00:11<00:00,  1.08s/it]\n",
      "processing y_non_stars: 100%|██████████| 11/11 [00:11<00:00,  1.02s/it]\n",
      "processing results:  95%|█████████▌| 95/100 [24:17<01:26, 17.29s/it]"
     ]
    },
    {
     "name": "stdout",
     "output_type": "stream",
     "text": [
      "processing test_613\n"
     ]
    },
    {
     "name": "stderr",
     "output_type": "stream",
     "text": [
      "processing y_stars: 100%|██████████| 6/6 [00:06<00:00,  1.03s/it]\n",
      "processing y_non_stars: 100%|██████████| 6/6 [00:06<00:00,  1.02s/it]\n",
      "processing results:  96%|█████████▌| 96/100 [24:30<01:03, 15.79s/it]"
     ]
    },
    {
     "name": "stdout",
     "output_type": "stream",
     "text": [
      "processing test_633\n"
     ]
    },
    {
     "name": "stderr",
     "output_type": "stream",
     "text": [
      "processing y_stars: 100%|██████████| 5/5 [00:04<00:00,  1.12it/s]\n",
      "processing y_non_stars: 100%|██████████| 5/5 [00:04<00:00,  1.06it/s]\n",
      "processing results:  97%|█████████▋| 97/100 [24:39<00:41, 13.80s/it]"
     ]
    },
    {
     "name": "stdout",
     "output_type": "stream",
     "text": [
      "processing test_641\n"
     ]
    },
    {
     "name": "stderr",
     "output_type": "stream",
     "text": [
      "processing y_stars: 100%|██████████| 12/12 [00:14<00:00,  1.20s/it]\n",
      "processing y_non_stars: 100%|██████████| 12/12 [00:13<00:00,  1.15s/it]\n",
      "processing results:  98%|█████████▊| 98/100 [25:07<00:36, 18.14s/it]"
     ]
    },
    {
     "name": "stdout",
     "output_type": "stream",
     "text": [
      "processing test_644\n"
     ]
    },
    {
     "name": "stderr",
     "output_type": "stream",
     "text": [
      "processing y_stars: 100%|██████████| 5/5 [00:04<00:00,  1.05it/s]\n",
      "processing y_non_stars: 100%|██████████| 5/5 [00:04<00:00,  1.04it/s]\n",
      "processing results:  99%|█████████▉| 99/100 [25:17<00:15, 15.57s/it]"
     ]
    },
    {
     "name": "stdout",
     "output_type": "stream",
     "text": [
      "processing test_652\n"
     ]
    },
    {
     "name": "stderr",
     "output_type": "stream",
     "text": [
      "processing y_stars: 100%|██████████| 6/6 [00:06<00:00,  1.02s/it]\n",
      "processing y_non_stars: 100%|██████████| 6/6 [00:05<00:00,  1.05it/s]\n",
      "processing results: 100%|██████████| 100/100 [25:29<00:00, 15.29s/it]\n"
     ]
    }
   ],
   "source": [
    "add_model_probs(all_model_probs, client, [], shadow_model_endpoints, model_type='shadow')"
   ]
  },
  {
   "cell_type": "code",
   "execution_count": 7,
   "id": "77de56d7",
   "metadata": {},
   "outputs": [],
   "source": [
    "with open(f'target_token_probs_train_{id}_10_epochs_prompt_2_with_shadow.json', 'w') as f:\n",
    "    json.dump(all_model_probs, f)"
   ]
  },
  {
   "cell_type": "code",
   "execution_count": 8,
   "id": "5e62d587",
   "metadata": {
    "scrolled": true
   },
   "outputs": [
    {
     "name": "stderr",
     "output_type": "stream",
     "text": [
      "processing results:   0%|          | 0/100 [00:00<?, ?it/s]"
     ]
    },
    {
     "name": "stdout",
     "output_type": "stream",
     "text": [
      "processing train_1\n"
     ]
    },
    {
     "name": "stderr",
     "output_type": "stream",
     "text": [
      "processing y_stars: 100%|██████████| 7/7 [00:22<00:00,  3.23s/it]\n",
      "processing y_non_stars: 100%|██████████| 7/7 [00:21<00:00,  3.14s/it]\n",
      "processing results:   1%|          | 1/100 [00:44<1:13:37, 44.62s/it]"
     ]
    },
    {
     "name": "stdout",
     "output_type": "stream",
     "text": [
      "processing train_17\n"
     ]
    },
    {
     "name": "stderr",
     "output_type": "stream",
     "text": [
      "processing y_stars: 100%|██████████| 6/6 [00:18<00:00,  3.09s/it]\n",
      "processing y_non_stars: 100%|██████████| 6/6 [00:18<00:00,  3.17s/it]\n",
      "processing results:   2%|▏         | 2/100 [01:22<1:06:02, 40.44s/it]"
     ]
    },
    {
     "name": "stdout",
     "output_type": "stream",
     "text": [
      "processing train_34\n"
     ]
    },
    {
     "name": "stderr",
     "output_type": "stream",
     "text": [
      "processing y_stars: 100%|██████████| 5/5 [00:16<00:00,  3.25s/it]\n",
      "processing y_non_stars: 100%|██████████| 5/5 [00:14<00:00,  2.89s/it]\n",
      "processing results:   3%|▎         | 3/100 [01:52<58:11, 35.99s/it]  "
     ]
    },
    {
     "name": "stdout",
     "output_type": "stream",
     "text": [
      "processing train_38\n"
     ]
    },
    {
     "name": "stderr",
     "output_type": "stream",
     "text": [
      "processing y_stars: 100%|██████████| 5/5 [00:15<00:00,  3.12s/it]\n",
      "processing y_non_stars: 100%|██████████| 5/5 [00:15<00:00,  3.19s/it]\n",
      "processing results:   4%|▍         | 4/100 [02:24<54:47, 34.25s/it]"
     ]
    },
    {
     "name": "stdout",
     "output_type": "stream",
     "text": [
      "processing train_84\n"
     ]
    },
    {
     "name": "stderr",
     "output_type": "stream",
     "text": [
      "processing y_stars: 100%|██████████| 5/5 [00:15<00:00,  3.09s/it]\n",
      "processing y_non_stars: 100%|██████████| 5/5 [00:15<00:00,  3.10s/it]\n",
      "processing results:   5%|▌         | 5/100 [02:55<52:19, 33.05s/it]"
     ]
    },
    {
     "name": "stdout",
     "output_type": "stream",
     "text": [
      "processing train_99\n"
     ]
    },
    {
     "name": "stderr",
     "output_type": "stream",
     "text": [
      "processing y_stars: 100%|██████████| 5/5 [00:16<00:00,  3.24s/it]\n",
      "processing y_non_stars: 100%|██████████| 5/5 [00:15<00:00,  3.15s/it]\n",
      "processing results:   6%|▌         | 6/100 [03:27<51:12, 32.69s/it]"
     ]
    },
    {
     "name": "stdout",
     "output_type": "stream",
     "text": [
      "processing train_130\n"
     ]
    },
    {
     "name": "stderr",
     "output_type": "stream",
     "text": [
      "processing y_stars: 100%|██████████| 9/9 [00:28<00:00,  3.19s/it]\n",
      "processing y_non_stars: 100%|██████████| 9/9 [00:29<00:00,  3.31s/it]\n",
      "processing results:   7%|▋         | 7/100 [04:25<1:03:46, 41.15s/it]"
     ]
    },
    {
     "name": "stdout",
     "output_type": "stream",
     "text": [
      "processing train_133\n"
     ]
    },
    {
     "name": "stderr",
     "output_type": "stream",
     "text": [
      "processing y_stars: 100%|██████████| 5/5 [00:15<00:00,  3.19s/it]\n",
      "processing y_non_stars: 100%|██████████| 5/5 [00:15<00:00,  3.07s/it]\n",
      "processing results:   8%|▊         | 8/100 [04:57<58:17, 38.01s/it]  "
     ]
    },
    {
     "name": "stdout",
     "output_type": "stream",
     "text": [
      "processing train_140\n"
     ]
    },
    {
     "name": "stderr",
     "output_type": "stream",
     "text": [
      "processing y_stars: 100%|██████████| 8/8 [00:25<00:00,  3.23s/it]\n",
      "processing y_non_stars: 100%|██████████| 8/8 [00:25<00:00,  3.15s/it]\n",
      "processing results:   9%|▉         | 9/100 [05:48<1:03:50, 42.10s/it]"
     ]
    },
    {
     "name": "stdout",
     "output_type": "stream",
     "text": [
      "processing train_141\n"
     ]
    },
    {
     "name": "stderr",
     "output_type": "stream",
     "text": [
      "processing y_stars: 100%|██████████| 9/9 [00:29<00:00,  3.30s/it]\n",
      "processing y_non_stars: 100%|██████████| 9/9 [00:29<00:00,  3.30s/it]\n",
      "processing results:  10%|█         | 10/100 [06:47<1:11:10, 47.44s/it]"
     ]
    },
    {
     "name": "stdout",
     "output_type": "stream",
     "text": [
      "processing train_146\n"
     ]
    },
    {
     "name": "stderr",
     "output_type": "stream",
     "text": [
      "processing y_stars: 100%|██████████| 5/5 [00:15<00:00,  3.19s/it]\n",
      "processing y_non_stars: 100%|██████████| 5/5 [00:16<00:00,  3.37s/it]\n",
      "processing results:  11%|█         | 11/100 [07:20<1:03:44, 42.97s/it]"
     ]
    },
    {
     "name": "stdout",
     "output_type": "stream",
     "text": [
      "processing train_183\n"
     ]
    },
    {
     "name": "stderr",
     "output_type": "stream",
     "text": [
      "processing y_stars: 100%|██████████| 5/5 [00:15<00:00,  3.11s/it]\n",
      "processing y_non_stars: 100%|██████████| 5/5 [00:15<00:00,  3.19s/it]\n",
      "processing results:  12%|█▏        | 12/100 [07:52<57:55, 39.49s/it]  "
     ]
    },
    {
     "name": "stdout",
     "output_type": "stream",
     "text": [
      "processing train_184\n"
     ]
    },
    {
     "name": "stderr",
     "output_type": "stream",
     "text": [
      "processing y_stars: 100%|██████████| 13/13 [00:50<00:00,  3.90s/it]\n",
      "processing y_non_stars: 100%|██████████| 13/13 [00:48<00:00,  3.73s/it]\n",
      "processing results:  13%|█▎        | 13/100 [09:31<1:23:29, 57.58s/it]"
     ]
    },
    {
     "name": "stdout",
     "output_type": "stream",
     "text": [
      "processing train_197\n"
     ]
    },
    {
     "name": "stderr",
     "output_type": "stream",
     "text": [
      "processing y_stars: 100%|██████████| 5/5 [00:15<00:00,  3.02s/it]\n",
      "processing y_non_stars: 100%|██████████| 5/5 [00:15<00:00,  3.01s/it]\n",
      "processing results:  14%|█▍        | 14/100 [10:01<1:10:40, 49.31s/it]"
     ]
    },
    {
     "name": "stdout",
     "output_type": "stream",
     "text": [
      "processing train_239\n"
     ]
    },
    {
     "name": "stderr",
     "output_type": "stream",
     "text": [
      "processing y_stars: 100%|██████████| 5/5 [00:15<00:00,  3.08s/it]\n",
      "processing y_non_stars: 100%|██████████| 5/5 [00:15<00:00,  3.15s/it]\n",
      "processing results:  15%|█▌        | 15/100 [10:32<1:02:05, 43.83s/it]"
     ]
    },
    {
     "name": "stdout",
     "output_type": "stream",
     "text": [
      "processing train_241\n"
     ]
    },
    {
     "name": "stderr",
     "output_type": "stream",
     "text": [
      "processing y_stars: 100%|██████████| 7/7 [00:22<00:00,  3.17s/it]\n",
      "processing y_non_stars: 100%|██████████| 7/7 [00:22<00:00,  3.18s/it]\n",
      "processing results:  16%|█▌        | 16/100 [11:17<1:01:37, 44.01s/it]"
     ]
    },
    {
     "name": "stdout",
     "output_type": "stream",
     "text": [
      "processing train_247\n"
     ]
    },
    {
     "name": "stderr",
     "output_type": "stream",
     "text": [
      "processing y_stars: 100%|██████████| 6/6 [00:19<00:00,  3.22s/it]\n",
      "processing y_non_stars: 100%|██████████| 6/6 [00:18<00:00,  3.12s/it]\n",
      "processing results:  17%|█▋        | 17/100 [11:55<58:24, 42.22s/it]  "
     ]
    },
    {
     "name": "stdout",
     "output_type": "stream",
     "text": [
      "processing train_254\n"
     ]
    },
    {
     "name": "stderr",
     "output_type": "stream",
     "text": [
      "processing y_stars: 100%|██████████| 5/5 [00:15<00:00,  3.05s/it]\n",
      "processing y_non_stars: 100%|██████████| 5/5 [00:15<00:00,  3.09s/it]\n",
      "processing results:  18%|█▊        | 18/100 [12:25<52:57, 38.75s/it]"
     ]
    },
    {
     "name": "stdout",
     "output_type": "stream",
     "text": [
      "processing train_262\n"
     ]
    },
    {
     "name": "stderr",
     "output_type": "stream",
     "text": [
      "processing y_stars: 100%|██████████| 5/5 [00:15<00:00,  3.16s/it]\n",
      "processing y_non_stars: 100%|██████████| 5/5 [00:15<00:00,  3.01s/it]\n",
      "processing results:  19%|█▉        | 19/100 [12:56<49:07, 36.39s/it]"
     ]
    },
    {
     "name": "stdout",
     "output_type": "stream",
     "text": [
      "processing train_275\n"
     ]
    },
    {
     "name": "stderr",
     "output_type": "stream",
     "text": [
      "processing y_stars: 100%|██████████| 8/8 [00:26<00:00,  3.28s/it]\n",
      "processing y_non_stars: 100%|██████████| 8/8 [00:26<00:00,  3.29s/it]\n",
      "processing results:  20%|██        | 20/100 [13:49<55:00, 41.25s/it]"
     ]
    },
    {
     "name": "stdout",
     "output_type": "stream",
     "text": [
      "processing train_306\n"
     ]
    },
    {
     "name": "stderr",
     "output_type": "stream",
     "text": [
      "processing y_stars: 100%|██████████| 6/6 [00:19<00:00,  3.29s/it]\n",
      "processing y_non_stars: 100%|██████████| 6/6 [00:19<00:00,  3.23s/it]\n",
      "processing results:  21%|██        | 21/100 [14:28<53:28, 40.62s/it]"
     ]
    },
    {
     "name": "stdout",
     "output_type": "stream",
     "text": [
      "processing train_307\n"
     ]
    },
    {
     "name": "stderr",
     "output_type": "stream",
     "text": [
      "processing y_stars: 100%|██████████| 5/5 [00:15<00:00,  3.14s/it]\n",
      "processing y_non_stars: 100%|██████████| 5/5 [00:16<00:00,  3.21s/it]\n",
      "processing results:  22%|██▏       | 22/100 [15:00<49:21, 37.96s/it]"
     ]
    },
    {
     "name": "stdout",
     "output_type": "stream",
     "text": [
      "processing train_322\n"
     ]
    },
    {
     "name": "stderr",
     "output_type": "stream",
     "text": [
      "processing y_stars: 100%|██████████| 7/7 [00:22<00:00,  3.23s/it]\n",
      "processing y_non_stars: 100%|██████████| 7/7 [00:22<00:00,  3.19s/it]\n",
      "processing results:  23%|██▎       | 23/100 [15:45<51:24, 40.06s/it]"
     ]
    },
    {
     "name": "stdout",
     "output_type": "stream",
     "text": [
      "processing train_329\n"
     ]
    },
    {
     "name": "stderr",
     "output_type": "stream",
     "text": [
      "processing y_stars: 100%|██████████| 7/7 [00:22<00:00,  3.19s/it]\n",
      "processing y_non_stars: 100%|██████████| 7/7 [00:21<00:00,  3.12s/it]\n",
      "processing results:  24%|██▍       | 24/100 [16:29<52:17, 41.28s/it]"
     ]
    },
    {
     "name": "stdout",
     "output_type": "stream",
     "text": [
      "processing train_336\n"
     ]
    },
    {
     "name": "stderr",
     "output_type": "stream",
     "text": [
      "processing y_stars: 100%|██████████| 6/6 [00:18<00:00,  3.11s/it]\n",
      "processing y_non_stars: 100%|██████████| 6/6 [00:19<00:00,  3.26s/it]\n",
      "processing results:  25%|██▌       | 25/100 [17:07<50:26, 40.36s/it]"
     ]
    },
    {
     "name": "stdout",
     "output_type": "stream",
     "text": [
      "processing train_338\n"
     ]
    },
    {
     "name": "stderr",
     "output_type": "stream",
     "text": [
      "processing y_stars: 100%|██████████| 9/9 [00:31<00:00,  3.52s/it]\n",
      "processing y_non_stars: 100%|██████████| 9/9 [00:30<00:00,  3.35s/it]\n",
      "processing results:  26%|██▌       | 26/100 [18:09<57:43, 46.80s/it]"
     ]
    },
    {
     "name": "stdout",
     "output_type": "stream",
     "text": [
      "processing train_355\n"
     ]
    },
    {
     "name": "stderr",
     "output_type": "stream",
     "text": [
      "processing y_stars: 100%|██████████| 9/9 [00:30<00:00,  3.35s/it]\n",
      "processing y_non_stars: 100%|██████████| 9/9 [00:29<00:00,  3.32s/it]\n",
      "processing results:  27%|██▋       | 27/100 [19:09<1:01:46, 50.78s/it]"
     ]
    },
    {
     "name": "stdout",
     "output_type": "stream",
     "text": [
      "processing train_356\n"
     ]
    },
    {
     "name": "stderr",
     "output_type": "stream",
     "text": [
      "processing y_stars: 100%|██████████| 5/5 [00:15<00:00,  3.13s/it]\n",
      "processing y_non_stars: 100%|██████████| 5/5 [00:15<00:00,  3.17s/it]\n",
      "processing results:  28%|██▊       | 28/100 [19:40<53:59, 44.99s/it]  "
     ]
    },
    {
     "name": "stdout",
     "output_type": "stream",
     "text": [
      "processing train_359\n"
     ]
    },
    {
     "name": "stderr",
     "output_type": "stream",
     "text": [
      "processing y_stars: 100%|██████████| 6/6 [00:20<00:00,  3.47s/it]\n",
      "processing y_non_stars: 100%|██████████| 6/6 [00:20<00:00,  3.39s/it]\n",
      "processing results:  29%|██▉       | 29/100 [20:21<51:53, 43.85s/it]"
     ]
    },
    {
     "name": "stdout",
     "output_type": "stream",
     "text": [
      "processing train_365\n"
     ]
    },
    {
     "name": "stderr",
     "output_type": "stream",
     "text": [
      "processing y_stars: 100%|██████████| 6/6 [00:19<00:00,  3.24s/it]\n",
      "processing y_non_stars: 100%|██████████| 6/6 [00:19<00:00,  3.21s/it]\n",
      "processing results:  30%|███       | 30/100 [21:00<49:21, 42.31s/it]"
     ]
    },
    {
     "name": "stdout",
     "output_type": "stream",
     "text": [
      "processing train_372\n"
     ]
    },
    {
     "name": "stderr",
     "output_type": "stream",
     "text": [
      "processing y_stars: 100%|██████████| 5/5 [00:15<00:00,  3.08s/it]\n",
      "processing y_non_stars: 100%|██████████| 5/5 [00:15<00:00,  3.12s/it]\n",
      "processing results:  31%|███       | 31/100 [21:31<44:45, 38.93s/it]"
     ]
    },
    {
     "name": "stdout",
     "output_type": "stream",
     "text": [
      "processing train_377\n"
     ]
    },
    {
     "name": "stderr",
     "output_type": "stream",
     "text": [
      "processing y_stars: 100%|██████████| 6/6 [00:18<00:00,  3.01s/it]\n",
      "processing y_non_stars: 100%|██████████| 6/6 [00:18<00:00,  3.07s/it]\n",
      "processing results:  32%|███▏      | 32/100 [22:08<43:17, 38.19s/it]"
     ]
    },
    {
     "name": "stdout",
     "output_type": "stream",
     "text": [
      "processing train_379\n"
     ]
    },
    {
     "name": "stderr",
     "output_type": "stream",
     "text": [
      "processing y_stars: 100%|██████████| 5/5 [00:15<00:00,  3.12s/it]\n",
      "processing y_non_stars: 100%|██████████| 5/5 [00:16<00:00,  3.20s/it]\n",
      "processing results:  33%|███▎      | 33/100 [22:39<40:27, 36.23s/it]"
     ]
    },
    {
     "name": "stdout",
     "output_type": "stream",
     "text": [
      "processing train_391\n"
     ]
    },
    {
     "name": "stderr",
     "output_type": "stream",
     "text": [
      "processing y_stars: 100%|██████████| 5/5 [00:15<00:00,  3.06s/it]\n",
      "processing y_non_stars: 100%|██████████| 5/5 [00:16<00:00,  3.27s/it]\n",
      "processing results:  34%|███▍      | 34/100 [23:11<38:20, 34.86s/it]"
     ]
    },
    {
     "name": "stdout",
     "output_type": "stream",
     "text": [
      "processing train_399\n"
     ]
    },
    {
     "name": "stderr",
     "output_type": "stream",
     "text": [
      "processing y_stars: 100%|██████████| 10/10 [00:34<00:00,  3.48s/it]\n",
      "processing y_non_stars: 100%|██████████| 10/10 [00:36<00:00,  3.61s/it]\n",
      "processing results:  35%|███▌      | 35/100 [24:22<49:29, 45.68s/it]"
     ]
    },
    {
     "name": "stdout",
     "output_type": "stream",
     "text": [
      "processing train_414\n"
     ]
    },
    {
     "name": "stderr",
     "output_type": "stream",
     "text": [
      "processing y_stars: 100%|██████████| 9/9 [00:30<00:00,  3.35s/it]\n",
      "processing y_non_stars: 100%|██████████| 9/9 [00:31<00:00,  3.54s/it]\n",
      "processing results:  36%|███▌      | 36/100 [25:24<53:57, 50.58s/it]"
     ]
    },
    {
     "name": "stdout",
     "output_type": "stream",
     "text": [
      "processing train_419\n"
     ]
    },
    {
     "name": "stderr",
     "output_type": "stream",
     "text": [
      "processing y_stars: 100%|██████████| 5/5 [00:15<00:00,  3.08s/it]\n",
      "processing y_non_stars: 100%|██████████| 5/5 [00:14<00:00,  2.95s/it]\n",
      "processing results:  37%|███▋      | 37/100 [25:54<46:40, 44.46s/it]"
     ]
    },
    {
     "name": "stdout",
     "output_type": "stream",
     "text": [
      "processing train_438\n"
     ]
    },
    {
     "name": "stderr",
     "output_type": "stream",
     "text": [
      "processing y_stars: 100%|██████████| 6/6 [00:19<00:00,  3.24s/it]\n",
      "processing y_non_stars: 100%|██████████| 6/6 [00:17<00:00,  2.98s/it]\n",
      "processing results:  38%|███▊      | 38/100 [26:31<43:44, 42.33s/it]"
     ]
    },
    {
     "name": "stdout",
     "output_type": "stream",
     "text": [
      "processing train_441\n"
     ]
    },
    {
     "name": "stderr",
     "output_type": "stream",
     "text": [
      "processing y_stars: 100%|██████████| 5/5 [00:16<00:00,  3.29s/it]\n",
      "processing y_non_stars: 100%|██████████| 5/5 [00:15<00:00,  3.16s/it]\n",
      "processing results:  39%|███▉      | 39/100 [27:04<39:57, 39.31s/it]"
     ]
    },
    {
     "name": "stdout",
     "output_type": "stream",
     "text": [
      "processing train_449\n"
     ]
    },
    {
     "name": "stderr",
     "output_type": "stream",
     "text": [
      "processing y_stars: 100%|██████████| 9/9 [00:30<00:00,  3.38s/it]\n",
      "processing y_non_stars: 100%|██████████| 9/9 [00:30<00:00,  3.40s/it]\n",
      "processing results:  40%|████      | 40/100 [28:05<45:49, 45.82s/it]"
     ]
    },
    {
     "name": "stdout",
     "output_type": "stream",
     "text": [
      "processing train_454\n"
     ]
    },
    {
     "name": "stderr",
     "output_type": "stream",
     "text": [
      "processing y_stars: 100%|██████████| 9/9 [00:30<00:00,  3.35s/it]\n",
      "processing y_non_stars: 100%|██████████| 9/9 [00:33<00:00,  3.72s/it]\n",
      "processing results:  41%|████      | 41/100 [29:08<50:19, 51.17s/it]"
     ]
    },
    {
     "name": "stdout",
     "output_type": "stream",
     "text": [
      "processing train_465\n"
     ]
    },
    {
     "name": "stderr",
     "output_type": "stream",
     "text": [
      "processing y_stars: 100%|██████████| 7/7 [00:24<00:00,  3.52s/it]\n",
      "processing y_non_stars: 100%|██████████| 7/7 [00:23<00:00,  3.34s/it]\n",
      "processing results:  42%|████▏     | 42/100 [29:56<48:33, 50.23s/it]"
     ]
    },
    {
     "name": "stdout",
     "output_type": "stream",
     "text": [
      "processing train_473\n"
     ]
    },
    {
     "name": "stderr",
     "output_type": "stream",
     "text": [
      "processing y_stars: 100%|██████████| 7/7 [00:23<00:00,  3.42s/it]\n",
      "processing y_non_stars: 100%|██████████| 7/7 [00:22<00:00,  3.27s/it]\n",
      "processing results:  43%|████▎     | 43/100 [30:43<46:45, 49.22s/it]"
     ]
    },
    {
     "name": "stdout",
     "output_type": "stream",
     "text": [
      "processing train_493\n"
     ]
    },
    {
     "name": "stderr",
     "output_type": "stream",
     "text": [
      "processing y_stars: 100%|██████████| 6/6 [00:19<00:00,  3.25s/it]\n",
      "processing y_non_stars: 100%|██████████| 6/6 [00:19<00:00,  3.20s/it]\n",
      "processing results:  44%|████▍     | 44/100 [31:22<43:00, 46.07s/it]"
     ]
    },
    {
     "name": "stdout",
     "output_type": "stream",
     "text": [
      "processing train_496\n"
     ]
    },
    {
     "name": "stderr",
     "output_type": "stream",
     "text": [
      "processing y_stars: 100%|██████████| 8/8 [00:27<00:00,  3.42s/it]\n",
      "processing y_non_stars: 100%|██████████| 8/8 [00:26<00:00,  3.27s/it]\n",
      "processing results:  45%|████▌     | 45/100 [32:16<44:16, 48.31s/it]"
     ]
    },
    {
     "name": "stdout",
     "output_type": "stream",
     "text": [
      "processing train_498\n"
     ]
    },
    {
     "name": "stderr",
     "output_type": "stream",
     "text": [
      "processing y_stars: 100%|██████████| 5/5 [00:16<00:00,  3.21s/it]\n",
      "processing y_non_stars: 100%|██████████| 5/5 [00:16<00:00,  3.23s/it]\n",
      "processing results:  46%|████▌     | 46/100 [32:48<39:08, 43.48s/it]"
     ]
    },
    {
     "name": "stdout",
     "output_type": "stream",
     "text": [
      "processing train_544\n"
     ]
    },
    {
     "name": "stderr",
     "output_type": "stream",
     "text": [
      "processing y_stars: 100%|██████████| 7/7 [00:21<00:00,  3.09s/it]\n",
      "processing y_non_stars: 100%|██████████| 7/7 [00:22<00:00,  3.26s/it]\n",
      "processing results:  47%|████▋     | 47/100 [33:32<38:40, 43.78s/it]"
     ]
    },
    {
     "name": "stdout",
     "output_type": "stream",
     "text": [
      "processing train_549\n"
     ]
    },
    {
     "name": "stderr",
     "output_type": "stream",
     "text": [
      "processing y_stars: 100%|██████████| 7/7 [00:23<00:00,  3.41s/it]\n",
      "processing y_non_stars: 100%|██████████| 7/7 [00:23<00:00,  3.36s/it]\n",
      "processing results:  48%|████▊     | 48/100 [34:20<38:52, 44.85s/it]"
     ]
    },
    {
     "name": "stdout",
     "output_type": "stream",
     "text": [
      "processing train_558\n"
     ]
    },
    {
     "name": "stderr",
     "output_type": "stream",
     "text": [
      "processing y_stars: 100%|██████████| 5/5 [00:15<00:00,  3.09s/it]\n",
      "processing y_non_stars: 100%|██████████| 5/5 [00:15<00:00,  3.17s/it]\n",
      "processing results:  49%|████▉     | 49/100 [34:51<34:40, 40.79s/it]"
     ]
    },
    {
     "name": "stdout",
     "output_type": "stream",
     "text": [
      "processing train_566\n"
     ]
    },
    {
     "name": "stderr",
     "output_type": "stream",
     "text": [
      "processing y_stars: 100%|██████████| 8/8 [00:26<00:00,  3.37s/it]\n",
      "processing y_non_stars: 100%|██████████| 8/8 [00:26<00:00,  3.34s/it]\n",
      "processing results:  50%|█████     | 50/100 [35:45<37:13, 44.67s/it]"
     ]
    },
    {
     "name": "stdout",
     "output_type": "stream",
     "text": [
      "processing test_0\n"
     ]
    },
    {
     "name": "stderr",
     "output_type": "stream",
     "text": [
      "processing y_stars: 100%|██████████| 11/11 [00:39<00:00,  3.61s/it]\n",
      "processing y_non_stars: 100%|██████████| 11/11 [00:38<00:00,  3.54s/it]\n",
      "processing results:  51%|█████     | 51/100 [37:03<44:48, 54.87s/it]"
     ]
    },
    {
     "name": "stdout",
     "output_type": "stream",
     "text": [
      "processing test_11\n"
     ]
    },
    {
     "name": "stderr",
     "output_type": "stream",
     "text": [
      "processing y_stars: 100%|██████████| 10/10 [00:34<00:00,  3.48s/it]\n",
      "processing y_non_stars: 100%|██████████| 10/10 [00:36<00:00,  3.65s/it]\n",
      "processing results:  52%|█████▏    | 52/100 [38:15<47:50, 59.80s/it]"
     ]
    },
    {
     "name": "stdout",
     "output_type": "stream",
     "text": [
      "processing test_20\n"
     ]
    },
    {
     "name": "stderr",
     "output_type": "stream",
     "text": [
      "processing y_stars: 100%|██████████| 5/5 [00:16<00:00,  3.31s/it]\n",
      "processing y_non_stars: 100%|██████████| 5/5 [00:15<00:00,  3.07s/it]\n",
      "processing results:  53%|█████▎    | 53/100 [38:47<40:17, 51.44s/it]"
     ]
    },
    {
     "name": "stdout",
     "output_type": "stream",
     "text": [
      "processing test_36\n"
     ]
    },
    {
     "name": "stderr",
     "output_type": "stream",
     "text": [
      "processing y_stars: 100%|██████████| 10/10 [00:36<00:00,  3.60s/it]\n",
      "processing y_non_stars: 100%|██████████| 10/10 [00:35<00:00,  3.51s/it]\n",
      "processing results:  54%|█████▍    | 54/100 [39:58<43:58, 57.36s/it]"
     ]
    },
    {
     "name": "stdout",
     "output_type": "stream",
     "text": [
      "processing test_110\n"
     ]
    },
    {
     "name": "stderr",
     "output_type": "stream",
     "text": [
      "processing y_stars: 100%|██████████| 6/6 [00:20<00:00,  3.37s/it]\n",
      "processing y_non_stars: 100%|██████████| 6/6 [00:21<00:00,  3.64s/it]\n",
      "processing results:  55%|█████▌    | 55/100 [40:40<39:34, 52.76s/it]"
     ]
    },
    {
     "name": "stdout",
     "output_type": "stream",
     "text": [
      "processing test_121\n"
     ]
    },
    {
     "name": "stderr",
     "output_type": "stream",
     "text": [
      "processing y_stars: 100%|██████████| 6/6 [00:19<00:00,  3.29s/it]\n",
      "processing y_non_stars: 100%|██████████| 6/6 [00:19<00:00,  3.19s/it]\n",
      "processing results:  56%|█████▌    | 56/100 [41:19<35:38, 48.60s/it]"
     ]
    },
    {
     "name": "stdout",
     "output_type": "stream",
     "text": [
      "processing test_131\n"
     ]
    },
    {
     "name": "stderr",
     "output_type": "stream",
     "text": [
      "processing y_stars: 100%|██████████| 9/9 [00:29<00:00,  3.27s/it]\n",
      "processing y_non_stars: 100%|██████████| 9/9 [00:30<00:00,  3.34s/it]\n",
      "processing results:  57%|█████▋    | 57/100 [42:18<37:09, 51.86s/it]"
     ]
    },
    {
     "name": "stdout",
     "output_type": "stream",
     "text": [
      "processing test_186\n"
     ]
    },
    {
     "name": "stderr",
     "output_type": "stream",
     "text": [
      "processing y_stars: 100%|██████████| 6/6 [00:18<00:00,  3.12s/it]\n",
      "processing y_non_stars: 100%|██████████| 6/6 [00:19<00:00,  3.17s/it]\n",
      "processing results:  58%|█████▊    | 58/100 [42:56<33:20, 47.64s/it]"
     ]
    },
    {
     "name": "stdout",
     "output_type": "stream",
     "text": [
      "processing test_199\n"
     ]
    },
    {
     "name": "stderr",
     "output_type": "stream",
     "text": [
      "processing y_stars: 100%|██████████| 7/7 [00:23<00:00,  3.42s/it]\n",
      "processing y_non_stars: 100%|██████████| 7/7 [00:24<00:00,  3.49s/it]\n",
      "processing results:  59%|█████▉    | 59/100 [43:44<32:42, 47.87s/it]"
     ]
    },
    {
     "name": "stdout",
     "output_type": "stream",
     "text": [
      "processing test_217\n"
     ]
    },
    {
     "name": "stderr",
     "output_type": "stream",
     "text": [
      "processing y_stars: 100%|██████████| 6/6 [00:20<00:00,  3.34s/it]\n",
      "processing y_non_stars: 100%|██████████| 6/6 [00:19<00:00,  3.29s/it]\n",
      "processing results:  60%|██████    | 60/100 [44:24<30:17, 45.43s/it]"
     ]
    },
    {
     "name": "stdout",
     "output_type": "stream",
     "text": [
      "processing test_223\n"
     ]
    },
    {
     "name": "stderr",
     "output_type": "stream",
     "text": [
      "processing y_stars: 100%|██████████| 6/6 [00:20<00:00,  3.49s/it]\n",
      "processing y_non_stars: 100%|██████████| 6/6 [00:20<00:00,  3.33s/it]\n",
      "processing results:  61%|██████    | 61/100 [45:05<28:39, 44.08s/it]"
     ]
    },
    {
     "name": "stdout",
     "output_type": "stream",
     "text": [
      "processing test_226\n"
     ]
    },
    {
     "name": "stderr",
     "output_type": "stream",
     "text": [
      "processing y_stars: 100%|██████████| 6/6 [00:19<00:00,  3.20s/it]\n",
      "processing y_non_stars: 100%|██████████| 6/6 [00:19<00:00,  3.31s/it]\n",
      "processing results:  62%|██████▏   | 62/100 [45:44<26:58, 42.58s/it]"
     ]
    },
    {
     "name": "stdout",
     "output_type": "stream",
     "text": [
      "processing test_246\n"
     ]
    },
    {
     "name": "stderr",
     "output_type": "stream",
     "text": [
      "processing y_stars: 100%|██████████| 11/11 [00:37<00:00,  3.40s/it]\n",
      "processing y_non_stars: 100%|██████████| 11/11 [00:36<00:00,  3.34s/it]\n",
      "processing results:  63%|██████▎   | 63/100 [46:58<32:05, 52.05s/it]"
     ]
    },
    {
     "name": "stdout",
     "output_type": "stream",
     "text": [
      "processing test_268\n"
     ]
    },
    {
     "name": "stderr",
     "output_type": "stream",
     "text": [
      "processing y_stars: 100%|██████████| 6/6 [00:18<00:00,  3.03s/it]\n",
      "processing y_non_stars: 100%|██████████| 6/6 [00:18<00:00,  3.07s/it]\n",
      "processing results:  64%|██████▍   | 64/100 [47:35<28:27, 47.42s/it]"
     ]
    },
    {
     "name": "stdout",
     "output_type": "stream",
     "text": [
      "processing test_270\n"
     ]
    },
    {
     "name": "stderr",
     "output_type": "stream",
     "text": [
      "processing y_stars: 100%|██████████| 11/11 [00:38<00:00,  3.52s/it]\n",
      "processing y_non_stars: 100%|██████████| 11/11 [00:38<00:00,  3.49s/it]\n",
      "processing results:  65%|██████▌   | 65/100 [48:52<32:51, 56.33s/it]"
     ]
    },
    {
     "name": "stdout",
     "output_type": "stream",
     "text": [
      "processing test_289\n"
     ]
    },
    {
     "name": "stderr",
     "output_type": "stream",
     "text": [
      "processing y_stars: 100%|██████████| 6/6 [00:18<00:00,  3.16s/it]\n",
      "processing y_non_stars: 100%|██████████| 6/6 [00:19<00:00,  3.29s/it]\n",
      "processing results:  66%|██████▌   | 66/100 [49:31<28:55, 51.05s/it]"
     ]
    },
    {
     "name": "stdout",
     "output_type": "stream",
     "text": [
      "processing test_309\n"
     ]
    },
    {
     "name": "stderr",
     "output_type": "stream",
     "text": [
      "processing y_stars: 100%|██████████| 6/6 [00:19<00:00,  3.19s/it]\n",
      "processing y_non_stars: 100%|██████████| 6/6 [00:18<00:00,  3.13s/it]\n",
      "processing results:  67%|██████▋   | 67/100 [50:09<25:54, 47.12s/it]"
     ]
    },
    {
     "name": "stdout",
     "output_type": "stream",
     "text": [
      "processing test_313\n"
     ]
    },
    {
     "name": "stderr",
     "output_type": "stream",
     "text": [
      "processing y_stars: 100%|██████████| 5/5 [00:15<00:00,  3.18s/it]\n",
      "processing y_non_stars: 100%|██████████| 5/5 [00:15<00:00,  3.08s/it]\n",
      "processing results:  68%|██████▊   | 68/100 [50:40<22:35, 42.37s/it]"
     ]
    },
    {
     "name": "stdout",
     "output_type": "stream",
     "text": [
      "processing test_321\n"
     ]
    },
    {
     "name": "stderr",
     "output_type": "stream",
     "text": [
      "processing y_stars: 100%|██████████| 5/5 [00:15<00:00,  3.12s/it]\n",
      "processing y_non_stars: 100%|██████████| 5/5 [00:15<00:00,  3.12s/it]\n",
      "processing results:  69%|██████▉   | 69/100 [51:11<20:09, 39.01s/it]"
     ]
    },
    {
     "name": "stdout",
     "output_type": "stream",
     "text": [
      "processing test_324\n"
     ]
    },
    {
     "name": "stderr",
     "output_type": "stream",
     "text": [
      "processing y_stars: 100%|██████████| 9/9 [00:31<00:00,  3.52s/it]\n",
      "processing y_non_stars: 100%|██████████| 9/9 [00:31<00:00,  3.49s/it]\n",
      "processing results:  70%|███████   | 70/100 [52:14<23:06, 46.23s/it]"
     ]
    },
    {
     "name": "stdout",
     "output_type": "stream",
     "text": [
      "processing test_349\n"
     ]
    },
    {
     "name": "stderr",
     "output_type": "stream",
     "text": [
      "processing y_stars: 100%|██████████| 6/6 [00:18<00:00,  3.12s/it]\n",
      "processing y_non_stars: 100%|██████████| 6/6 [00:18<00:00,  3.07s/it]\n",
      "processing results:  71%|███████   | 71/100 [52:51<21:01, 43.50s/it]"
     ]
    },
    {
     "name": "stdout",
     "output_type": "stream",
     "text": [
      "processing test_358\n"
     ]
    },
    {
     "name": "stderr",
     "output_type": "stream",
     "text": [
      "processing y_stars: 100%|██████████| 6/6 [00:19<00:00,  3.22s/it]\n",
      "processing y_non_stars: 100%|██████████| 6/6 [00:18<00:00,  3.13s/it]\n",
      "processing results:  72%|███████▏  | 72/100 [53:29<19:32, 41.89s/it]"
     ]
    },
    {
     "name": "stdout",
     "output_type": "stream",
     "text": [
      "processing test_376\n"
     ]
    },
    {
     "name": "stderr",
     "output_type": "stream",
     "text": [
      "processing y_stars: 100%|██████████| 5/5 [00:16<00:00,  3.28s/it]\n",
      "processing y_non_stars: 100%|██████████| 5/5 [00:14<00:00,  2.95s/it]\n",
      "processing results:  73%|███████▎  | 73/100 [54:01<17:23, 38.66s/it]"
     ]
    },
    {
     "name": "stdout",
     "output_type": "stream",
     "text": [
      "processing test_384\n"
     ]
    },
    {
     "name": "stderr",
     "output_type": "stream",
     "text": [
      "processing y_stars: 100%|██████████| 8/8 [00:25<00:00,  3.21s/it]\n",
      "processing y_non_stars: 100%|██████████| 8/8 [00:26<00:00,  3.28s/it]\n",
      "processing results:  74%|███████▍  | 74/100 [54:52<18:28, 42.64s/it]"
     ]
    },
    {
     "name": "stdout",
     "output_type": "stream",
     "text": [
      "processing test_395\n"
     ]
    },
    {
     "name": "stderr",
     "output_type": "stream",
     "text": [
      "processing y_stars: 100%|██████████| 12/12 [00:40<00:00,  3.40s/it]\n",
      "processing y_non_stars: 100%|██████████| 12/12 [00:40<00:00,  3.37s/it]\n",
      "processing results:  75%|███████▌  | 75/100 [56:14<22:35, 54.21s/it]"
     ]
    },
    {
     "name": "stdout",
     "output_type": "stream",
     "text": [
      "processing test_396\n"
     ]
    },
    {
     "name": "stderr",
     "output_type": "stream",
     "text": [
      "processing y_stars: 100%|██████████| 5/5 [00:16<00:00,  3.27s/it]\n",
      "processing y_non_stars: 100%|██████████| 5/5 [00:17<00:00,  3.42s/it]\n",
      "processing results:  76%|███████▌  | 76/100 [56:47<19:11, 47.98s/it]"
     ]
    },
    {
     "name": "stdout",
     "output_type": "stream",
     "text": [
      "processing test_408\n"
     ]
    },
    {
     "name": "stderr",
     "output_type": "stream",
     "text": [
      "processing y_stars: 100%|██████████| 33/33 [02:58<00:00,  5.41s/it]\n",
      "processing y_non_stars: 100%|██████████| 33/33 [02:50<00:00,  5.16s/it]\n",
      "processing results:  77%|███████▋  | 77/100 [1:02:36<52:58, 138.20s/it]"
     ]
    },
    {
     "name": "stdout",
     "output_type": "stream",
     "text": [
      "processing test_418\n"
     ]
    },
    {
     "name": "stderr",
     "output_type": "stream",
     "text": [
      "processing y_stars: 100%|██████████| 6/6 [00:20<00:00,  3.46s/it]\n",
      "processing y_non_stars: 100%|██████████| 6/6 [00:21<00:00,  3.51s/it]\n",
      "processing results:  78%|███████▊  | 78/100 [1:03:18<40:04, 109.29s/it]"
     ]
    },
    {
     "name": "stdout",
     "output_type": "stream",
     "text": [
      "processing test_434\n"
     ]
    },
    {
     "name": "stderr",
     "output_type": "stream",
     "text": [
      "processing y_stars: 100%|██████████| 5/5 [00:16<00:00,  3.25s/it]\n",
      "processing y_non_stars: 100%|██████████| 5/5 [00:17<00:00,  3.46s/it]\n",
      "processing results:  79%|███████▉  | 79/100 [1:03:51<30:18, 86.58s/it] "
     ]
    },
    {
     "name": "stdout",
     "output_type": "stream",
     "text": [
      "processing test_469\n"
     ]
    },
    {
     "name": "stderr",
     "output_type": "stream",
     "text": [
      "processing y_stars: 100%|██████████| 12/12 [00:42<00:00,  3.57s/it]\n",
      "processing y_non_stars: 100%|██████████| 12/12 [00:41<00:00,  3.47s/it]\n",
      "processing results:  80%|████████  | 80/100 [1:05:16<28:38, 85.94s/it]"
     ]
    },
    {
     "name": "stdout",
     "output_type": "stream",
     "text": [
      "processing test_470\n"
     ]
    },
    {
     "name": "stderr",
     "output_type": "stream",
     "text": [
      "processing y_stars: 100%|██████████| 6/6 [00:19<00:00,  3.30s/it]\n",
      "processing y_non_stars: 100%|██████████| 6/6 [00:18<00:00,  3.15s/it]\n",
      "processing results:  81%|████████  | 81/100 [1:05:54<22:43, 71.77s/it]"
     ]
    },
    {
     "name": "stdout",
     "output_type": "stream",
     "text": [
      "processing test_499\n"
     ]
    },
    {
     "name": "stderr",
     "output_type": "stream",
     "text": [
      "processing y_stars: 100%|██████████| 5/5 [00:15<00:00,  3.18s/it]\n",
      "processing y_non_stars: 100%|██████████| 5/5 [00:16<00:00,  3.28s/it]\n",
      "processing results:  82%|████████▏ | 82/100 [1:06:27<17:58, 59.92s/it]"
     ]
    },
    {
     "name": "stdout",
     "output_type": "stream",
     "text": [
      "processing test_516\n"
     ]
    },
    {
     "name": "stderr",
     "output_type": "stream",
     "text": [
      "processing y_stars: 100%|██████████| 5/5 [00:16<00:00,  3.20s/it]\n",
      "processing y_non_stars: 100%|██████████| 5/5 [00:16<00:00,  3.38s/it]\n",
      "processing results:  83%|████████▎ | 83/100 [1:07:00<14:41, 51.83s/it]"
     ]
    },
    {
     "name": "stdout",
     "output_type": "stream",
     "text": [
      "processing test_528\n"
     ]
    },
    {
     "name": "stderr",
     "output_type": "stream",
     "text": [
      "processing y_stars: 100%|██████████| 5/5 [00:16<00:00,  3.29s/it]\n",
      "processing y_non_stars: 100%|██████████| 5/5 [00:16<00:00,  3.36s/it]\n",
      "processing results:  84%|████████▍ | 84/100 [1:07:33<12:20, 46.26s/it]"
     ]
    },
    {
     "name": "stdout",
     "output_type": "stream",
     "text": [
      "processing test_531\n"
     ]
    },
    {
     "name": "stderr",
     "output_type": "stream",
     "text": [
      "processing y_stars: 100%|██████████| 9/9 [00:32<00:00,  3.59s/it]\n",
      "processing y_non_stars: 100%|██████████| 9/9 [00:32<00:00,  3.61s/it]\n",
      "processing results:  85%|████████▌ | 85/100 [1:08:38<12:57, 51.82s/it]"
     ]
    },
    {
     "name": "stdout",
     "output_type": "stream",
     "text": [
      "processing test_535\n"
     ]
    },
    {
     "name": "stderr",
     "output_type": "stream",
     "text": [
      "processing y_stars: 100%|██████████| 13/13 [00:49<00:00,  3.79s/it]\n",
      "processing y_non_stars: 100%|██████████| 13/13 [00:48<00:00,  3.69s/it]\n",
      "processing results:  86%|████████▌ | 86/100 [1:10:15<15:16, 65.47s/it]"
     ]
    },
    {
     "name": "stdout",
     "output_type": "stream",
     "text": [
      "processing test_541\n"
     ]
    },
    {
     "name": "stderr",
     "output_type": "stream",
     "text": [
      "processing y_stars: 100%|██████████| 11/11 [00:37<00:00,  3.39s/it]\n",
      "processing y_non_stars: 100%|██████████| 11/11 [00:36<00:00,  3.36s/it]\n",
      "processing results:  87%|████████▋ | 87/100 [1:11:29<14:45, 68.10s/it]"
     ]
    },
    {
     "name": "stdout",
     "output_type": "stream",
     "text": [
      "processing test_559\n"
     ]
    },
    {
     "name": "stderr",
     "output_type": "stream",
     "text": [
      "processing y_stars: 100%|██████████| 6/6 [00:19<00:00,  3.22s/it]\n",
      "processing y_non_stars: 100%|██████████| 6/6 [00:19<00:00,  3.28s/it]\n",
      "processing results:  88%|████████▊ | 88/100 [1:12:08<11:52, 59.37s/it]"
     ]
    },
    {
     "name": "stdout",
     "output_type": "stream",
     "text": [
      "processing test_563\n"
     ]
    },
    {
     "name": "stderr",
     "output_type": "stream",
     "text": [
      "processing y_stars: 100%|██████████| 8/8 [00:29<00:00,  3.63s/it]\n",
      "processing y_non_stars: 100%|██████████| 8/8 [00:27<00:00,  3.41s/it]\n",
      "processing results:  89%|████████▉ | 89/100 [1:13:05<10:42, 58.45s/it]"
     ]
    },
    {
     "name": "stdout",
     "output_type": "stream",
     "text": [
      "processing test_577\n"
     ]
    },
    {
     "name": "stderr",
     "output_type": "stream",
     "text": [
      "processing y_stars: 100%|██████████| 7/7 [00:22<00:00,  3.20s/it]\n",
      "processing y_non_stars: 100%|██████████| 7/7 [00:22<00:00,  3.19s/it]\n",
      "processing results:  90%|█████████ | 90/100 [1:13:49<09:03, 54.34s/it]"
     ]
    },
    {
     "name": "stdout",
     "output_type": "stream",
     "text": [
      "processing test_583\n"
     ]
    },
    {
     "name": "stderr",
     "output_type": "stream",
     "text": [
      "processing y_stars: 100%|██████████| 5/5 [00:18<00:00,  3.74s/it]\n",
      "processing y_non_stars: 100%|██████████| 5/5 [00:18<00:00,  3.63s/it]\n",
      "processing results:  91%|█████████ | 91/100 [1:14:26<07:21, 49.09s/it]"
     ]
    },
    {
     "name": "stdout",
     "output_type": "stream",
     "text": [
      "processing test_586\n"
     ]
    },
    {
     "name": "stderr",
     "output_type": "stream",
     "text": [
      "processing y_stars: 100%|██████████| 10/10 [00:33<00:00,  3.33s/it]\n",
      "processing y_non_stars: 100%|██████████| 10/10 [00:33<00:00,  3.38s/it]\n",
      "processing results:  92%|█████████▏| 92/100 [1:15:33<07:15, 54.48s/it]"
     ]
    },
    {
     "name": "stdout",
     "output_type": "stream",
     "text": [
      "processing test_592\n"
     ]
    },
    {
     "name": "stderr",
     "output_type": "stream",
     "text": [
      "processing y_stars: 100%|██████████| 6/6 [00:19<00:00,  3.29s/it]\n",
      "processing y_non_stars: 100%|██████████| 6/6 [00:19<00:00,  3.21s/it]\n",
      "processing results:  93%|█████████▎| 93/100 [1:16:12<05:48, 49.83s/it]"
     ]
    },
    {
     "name": "stdout",
     "output_type": "stream",
     "text": [
      "processing test_599\n"
     ]
    },
    {
     "name": "stderr",
     "output_type": "stream",
     "text": [
      "processing y_stars: 100%|██████████| 7/7 [00:22<00:00,  3.20s/it]\n",
      "processing y_non_stars: 100%|██████████| 7/7 [00:22<00:00,  3.21s/it]\n",
      "processing results:  94%|█████████▍| 94/100 [1:16:57<04:50, 48.36s/it]"
     ]
    },
    {
     "name": "stdout",
     "output_type": "stream",
     "text": [
      "processing test_606\n"
     ]
    },
    {
     "name": "stderr",
     "output_type": "stream",
     "text": [
      "processing y_stars: 100%|██████████| 11/11 [00:37<00:00,  3.41s/it]\n",
      "processing y_non_stars: 100%|██████████| 11/11 [00:37<00:00,  3.37s/it]\n",
      "processing results:  95%|█████████▌| 95/100 [1:18:12<04:41, 56.24s/it]"
     ]
    },
    {
     "name": "stdout",
     "output_type": "stream",
     "text": [
      "processing test_613\n"
     ]
    },
    {
     "name": "stderr",
     "output_type": "stream",
     "text": [
      "processing y_stars: 100%|██████████| 6/6 [00:18<00:00,  3.14s/it]\n",
      "processing y_non_stars: 100%|██████████| 6/6 [00:18<00:00,  3.13s/it]\n",
      "processing results:  96%|█████████▌| 96/100 [1:18:49<03:22, 50.66s/it]"
     ]
    },
    {
     "name": "stdout",
     "output_type": "stream",
     "text": [
      "processing test_633\n"
     ]
    },
    {
     "name": "stderr",
     "output_type": "stream",
     "text": [
      "processing y_stars: 100%|██████████| 5/5 [00:16<00:00,  3.24s/it]\n",
      "processing y_non_stars: 100%|██████████| 5/5 [00:15<00:00,  3.03s/it]\n",
      "processing results:  97%|█████████▋| 97/100 [1:19:21<02:14, 44.87s/it]"
     ]
    },
    {
     "name": "stdout",
     "output_type": "stream",
     "text": [
      "processing test_641\n"
     ]
    },
    {
     "name": "stderr",
     "output_type": "stream",
     "text": [
      "processing y_stars: 100%|██████████| 12/12 [00:44<00:00,  3.69s/it]\n",
      "processing y_non_stars: 100%|██████████| 12/12 [00:46<00:00,  3.91s/it]\n",
      "processing results:  98%|█████████▊| 98/100 [1:20:52<01:57, 58.76s/it]"
     ]
    },
    {
     "name": "stdout",
     "output_type": "stream",
     "text": [
      "processing test_644\n"
     ]
    },
    {
     "name": "stderr",
     "output_type": "stream",
     "text": [
      "processing y_stars: 100%|██████████| 5/5 [00:15<00:00,  3.06s/it]\n",
      "processing y_non_stars: 100%|██████████| 5/5 [00:14<00:00,  2.98s/it]\n",
      "processing results:  99%|█████████▉| 99/100 [1:21:22<00:50, 50.19s/it]"
     ]
    },
    {
     "name": "stdout",
     "output_type": "stream",
     "text": [
      "processing test_652\n"
     ]
    },
    {
     "name": "stderr",
     "output_type": "stream",
     "text": [
      "processing y_stars: 100%|██████████| 6/6 [00:19<00:00,  3.17s/it]\n",
      "processing y_non_stars: 100%|██████████| 6/6 [00:18<00:00,  3.15s/it]\n",
      "processing results: 100%|██████████| 100/100 [1:22:00<00:00, 49.21s/it]\n"
     ]
    }
   ],
   "source": [
    "add_model_probs(all_model_probs, client, world_model_endpoints, [], model_type='world')"
   ]
  },
  {
   "cell_type": "code",
   "execution_count": 9,
   "id": "2c7061b4",
   "metadata": {},
   "outputs": [],
   "source": [
    "with open(f'target_token_probs_train_{id}_10_epochs_prompt_2_with_shadow_with_world.json', 'w') as f:\n",
    "    json.dump(all_model_probs, f)"
   ]
  },
  {
   "cell_type": "code",
   "execution_count": null,
   "id": "35ddb025",
   "metadata": {},
   "outputs": [],
   "source": []
  }
 ],
 "metadata": {
  "kernelspec": {
   "display_name": "together",
   "language": "python",
   "name": "python3"
  },
  "language_info": {
   "codemirror_mode": {
    "name": "ipython",
    "version": 3
   },
   "file_extension": ".py",
   "mimetype": "text/x-python",
   "name": "python",
   "nbconvert_exporter": "python",
   "pygments_lexer": "ipython3",
   "version": "3.10.15"
  }
 },
 "nbformat": 4,
 "nbformat_minor": 5
}
