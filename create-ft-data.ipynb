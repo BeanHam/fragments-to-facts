{
 "cells": [
  {
   "cell_type": "code",
   "execution_count": 1,
   "id": "950912e1",
   "metadata": {},
   "outputs": [],
   "source": [
    "import json\n",
    "import random\n",
    "from tqdm import tqdm\n",
    "from datasets import load_dataset, concatenate_datasets\n",
    "from transformers import AutoTokenizer"
   ]
  },
  {
   "cell_type": "code",
   "execution_count": 2,
   "id": "b1f2d5f4",
   "metadata": {},
   "outputs": [],
   "source": [
    "def format_for_finetuning(data,\n",
    "                          system_message: str,\n",
    "                          tokenizer) -> str:\n",
    "    \"\"\"\n",
    "    Format data in JSON for fine-tuning an OpenAI chatbot model.\n",
    "    \"\"\"\n",
    "    \n",
    "    chat = [\n",
    "        {\"role\": \"system\", \"content\": system_message},\n",
    "        {\"role\": \"user\", \"content\": data['dialogue']},\n",
    "        {\"role\": \"assistant\", \"content\": data['section_text']},      \n",
    "    ]\n",
    "    text = tokenizer.apply_chat_template(chat, tokenize=False, add_generation_prompt=False)    \n",
    "    return json.dumps({\"text\":text})"
   ]
  },
  {
   "cell_type": "code",
   "execution_count": 3,
   "id": "3441878a",
   "metadata": {},
   "outputs": [],
   "source": [
    "def subsample_data(dataset, split_ratio=0.5):\n",
    "    all_data = concatenate_datasets([dataset['train'], dataset['validation'], dataset['test']])    \n",
    "    total_ids = all_data['ID']\n",
    "\n",
    "    # we are sampling 50% iid of the data\n",
    "    subsampled_ids = random.sample(total_ids, int(len(total_ids) * split_ratio))\n",
    "\n",
    "    return subsampled_ids"
   ]
  },
  {
   "cell_type": "code",
   "execution_count": 4,
   "id": "34dbcaa9",
   "metadata": {
    "scrolled": true
   },
   "outputs": [
    {
     "name": "stderr",
     "output_type": "stream",
     "text": [
      "Special tokens have been added in the vocabulary, make sure the associated word embeddings are fine-tuned or trained.\n"
     ]
    }
   ],
   "source": [
    "model_id='meta-llama/Llama-3.1-8B-Instruct'\n",
    "data_name='beanham/medsum_llm_attack'\n",
    "tokenizer = AutoTokenizer.from_pretrained(model_id)\n",
    "dataset = load_dataset(data_name)\n",
    "all_data = concatenate_datasets([dataset['train'], dataset['validation'], dataset['test']])\n",
    "## randomly subset\n",
    "#subsample_ids=subsample_data(dataset)\n",
    "#dataset = dataset.filter(lambda example: example['ID'] in subsample_ids)"
   ]
  },
  {
   "cell_type": "code",
   "execution_count": 10,
   "id": "e28f247c",
   "metadata": {},
   "outputs": [
    {
     "name": "stderr",
     "output_type": "stream",
     "text": [
      "100%|█████████████████████████████████████| 1329/1329 [00:00<00:00, 7164.18it/s]\n"
     ]
    }
   ],
   "source": [
    "system_message=system_message = \"\"\"You are a helpful medical assistant! Please help me summarize dialogues between doctors and patients.\"\"\"\n",
    "data_formatted = '\\n'.join(\n",
    "    [format_for_finetuning(all_data[i], system_message, tokenizer) for i in tqdm(range(len(all_data)))]\n",
    "    )\n",
    "with open('data_formatted.jsonl', 'w') as f:\n",
    "    f.write(data_formatted)"
   ]
  },
  {
   "cell_type": "code",
   "execution_count": null,
   "id": "014a8a80",
   "metadata": {},
   "outputs": [],
   "source": [
    "!"
   ]
  }
 ],
 "metadata": {
  "kernelspec": {
   "display_name": "Python 3 (ipykernel)",
   "language": "python",
   "name": "python3"
  },
  "language_info": {
   "codemirror_mode": {
    "name": "ipython",
    "version": 3
   },
   "file_extension": ".py",
   "mimetype": "text/x-python",
   "name": "python",
   "nbconvert_exporter": "python",
   "pygments_lexer": "ipython3",
   "version": "3.11.5"
  }
 },
 "nbformat": 4,
 "nbformat_minor": 5
}
