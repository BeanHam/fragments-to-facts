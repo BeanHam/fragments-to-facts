{
 "cells": [
  {
   "cell_type": "code",
   "execution_count": null,
   "id": "7418d6e8",
   "metadata": {},
   "outputs": [],
   "source": [
    "class LanguageModel:\n",
    "    \n",
    "    \n",
    "    def _init_model_(self, model_name):\n",
    "        \n",
    "        \"\"\"\n",
    "        Function to load initial model.\n",
    "        \n",
    "        params:\n",
    "            - model_name: name of the model. Choose from ['synthetic', 'llama3']\n",
    "        \n",
    "        \"\"\"\n",
    "        \n",
    "        if \n",
    "        \n",
    "        else:\n",
    "            \n",
    "    "
   ]
  },
  {
   "cell_type": "code",
   "execution_count": null,
   "id": "bde4d6d5",
   "metadata": {},
   "outputs": [],
   "source": []
  },
  {
   "cell_type": "code",
   "execution_count": null,
   "id": "ab06c73c",
   "metadata": {},
   "outputs": [],
   "source": []
  },
  {
   "cell_type": "code",
   "execution_count": null,
   "id": "3c55419a",
   "metadata": {},
   "outputs": [],
   "source": []
  }
 ],
 "metadata": {
  "kernelspec": {
   "display_name": "Python 3 (ipykernel)",
   "language": "python",
   "name": "python3"
  },
  "language_info": {
   "codemirror_mode": {
    "name": "ipython",
    "version": 3
   },
   "file_extension": ".py",
   "mimetype": "text/x-python",
   "name": "python",
   "nbconvert_exporter": "python",
   "pygments_lexer": "ipython3",
   "version": "3.11.5"
  }
 },
 "nbformat": 4,
 "nbformat_minor": 5
}
