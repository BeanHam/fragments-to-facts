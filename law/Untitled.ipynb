{
 "cells": [
  {
   "cell_type": "code",
   "execution_count": 16,
   "id": "d5cf43fe-a820-4d39-82d1-1eccdd926a19",
   "metadata": {},
   "outputs": [],
   "source": [
    "import json\n",
    "import argparse\n",
    "from tqdm import tqdm\n",
    "from datasets import Dataset\n",
    "from os import makedirs, path\n",
    "from transformers import AutoTokenizer\n",
    "from datasets import load_dataset, concatenate_datasets\n",
    "\n",
    "system_message = \"\"\"You are a helpful law assistant! Please help me summarize law cases.\"\"\"\n",
    "\n",
    "def format_for_finetuning(data,\n",
    "                          system_message: str,\n",
    "                          tokenizer) -> str:\n",
    "    \"\"\"\n",
    "    Format data in JSON for fine-tuning an OpenAI chatbot model.\n",
    "    \"\"\"\n",
    "    \n",
    "    chat = [\n",
    "        {\"role\": \"system\", \"content\": system_message},\n",
    "        {\"role\": \"user\", \"content\": data['text']},\n",
    "        {\"role\": \"assistant\", \"content\": data['summary']},      \n",
    "    ]\n",
    "    text = tokenizer.apply_chat_template(chat, tokenize=False, add_generation_prompt=False)\n",
    "    return json.dumps({\"text\":text})"
   ]
  },
  {
   "cell_type": "code",
   "execution_count": 2,
   "id": "23961e78-301a-44c6-a28f-517000960bab",
   "metadata": {},
   "outputs": [],
   "source": [
    "#-------------------\n",
    "# Parameters\n",
    "#-------------------    \n",
    "parser = argparse.ArgumentParser()\n",
    "parser.add_argument('--dataset', type=str, default='beanham/law_llm_attack')\n",
    "parser.add_argument('--data_dir', type=str, default='formatted_data/')\n",
    "parser.add_argument('--model_id', type=str, default='meta-llama/Llama-3.1-8B-Instruct')\n",
    "args = parser.parse_args(args=[])\n",
    "if not path.exists(args.data_dir):\n",
    "    makedirs(args.data_dir)\n",
    "if 'llama' in args.model_id:\n",
    "    args.model_tag = 'llama'\n",
    "elif 'mistral' in args.model_id:\n",
    "    args.model_tag = 'mistral'\n",
    "elif 'Qwen' in args.model_id:\n",
    "    args.model_tag = 'qwen'"
   ]
  },
  {
   "cell_type": "code",
   "execution_count": 3,
   "id": "a22c5720-cb4c-4183-ae98-b95065b8108b",
   "metadata": {},
   "outputs": [
    {
     "name": "stdout",
     "output_type": "stream",
     "text": [
      "Downloading and preparing data...\n"
     ]
    }
   ],
   "source": [
    "# ----------------------\n",
    "# Load & Process Data\n",
    "# ----------------------\n",
    "print('Downloading and preparing data...')\n",
    "tokenizer = AutoTokenizer.from_pretrained(args.model_id)\n",
    "dataset = load_dataset(args.dataset)\n",
    "all_data = concatenate_datasets([dataset['train'], dataset['val'], dataset['test']])\n",
    "new_ids = range(len(all_data))\n",
    "all_data = all_data.add_column(\"new_ID\", new_ids)"
   ]
  },
  {
   "cell_type": "code",
   "execution_count": 4,
   "id": "7b4d57ec-6b18-4126-80ee-524f2e7f4107",
   "metadata": {},
   "outputs": [
    {
     "data": {
      "application/vnd.jupyter.widget-view+json": {
       "model_id": "8f979a6270f44d92ba8904acfb485c3a",
       "version_major": 2,
       "version_minor": 0
      },
      "text/plain": [
       "Filter:   0%|          | 0/1171 [00:00<?, ? examples/s]"
      ]
     },
     "metadata": {},
     "output_type": "display_data"
    },
    {
     "data": {
      "application/vnd.jupyter.widget-view+json": {
       "model_id": "4c5503e6e20b400c902a4ed4f0eebbc4",
       "version_major": 2,
       "version_minor": 0
      },
      "text/plain": [
       "Filter:   0%|          | 0/1171 [00:00<?, ? examples/s]"
      ]
     },
     "metadata": {},
     "output_type": "display_data"
    },
    {
     "data": {
      "application/vnd.jupyter.widget-view+json": {
       "model_id": "fa19f8722b2743ea810a1631c5050db3",
       "version_major": 2,
       "version_minor": 0
      },
      "text/plain": [
       "Filter:   0%|          | 0/1171 [00:00<?, ? examples/s]"
      ]
     },
     "metadata": {},
     "output_type": "display_data"
    },
    {
     "data": {
      "application/vnd.jupyter.widget-view+json": {
       "model_id": "7cc8c08f834f43d8b6e5bf2e5b75da68",
       "version_major": 2,
       "version_minor": 0
      },
      "text/plain": [
       "Filter:   0%|          | 0/1171 [00:00<?, ? examples/s]"
      ]
     },
     "metadata": {},
     "output_type": "display_data"
    }
   ],
   "source": [
    "    ## load split ids\n",
    "    with open(path.join(args.data_dir, 'train_ids.txt'), 'r') as f:\n",
    "        train_ids=f.readlines()    \n",
    "    with open(path.join(args.data_dir, 'val_ids.txt'), 'r') as f:\n",
    "        val_ids=f.readlines()\n",
    "    with open(path.join(args.data_dir, 'shadow_train_ids.txt'), 'r') as f:\n",
    "        shadow_train_ids=f.readlines()\n",
    "    with open(path.join(args.data_dir, 'shadow_val_ids.txt'), 'r') as f:\n",
    "        shadow_val_ids=f.readlines()\n",
    "    train_ids=[int(i.split()[0]) for i in train_ids]\n",
    "    val_ids=[int(i.split()[0]) for i in val_ids]\n",
    "    shadow_train_ids=[int(i.split()[0]) for i in shadow_train_ids]\n",
    "    shadow_val_ids=[int(i.split()[0]) for i in shadow_val_ids]    \n",
    "    \n",
    "    dataset_train = all_data.filter(lambda example: example['new_ID'] in train_ids)\n",
    "    dataset_val = all_data.filter(lambda example: example['new_ID'] in val_ids)\n",
    "    shadow_dataset_train = all_data.filter(lambda example: example['new_ID'] in shadow_train_ids)\n",
    "    shadow_dataset_val = all_data.filter(lambda example: example['new_ID'] in shadow_val_ids)"
   ]
  }
 ],
 "metadata": {
  "kernelspec": {
   "display_name": "Python 3 (ipykernel)",
   "language": "python",
   "name": "python3"
  },
  "language_info": {
   "codemirror_mode": {
    "name": "ipython",
    "version": 3
   },
   "file_extension": ".py",
   "mimetype": "text/x-python",
   "name": "python",
   "nbconvert_exporter": "python",
   "pygments_lexer": "ipython3",
   "version": "3.10.15"
  }
 },
 "nbformat": 4,
 "nbformat_minor": 5
}
