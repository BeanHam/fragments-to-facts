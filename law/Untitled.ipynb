{
 "cells": [
  {
   "cell_type": "code",
   "execution_count": 1,
   "id": "057247e5-06f8-482e-8afa-5af10eeb8d5d",
   "metadata": {},
   "outputs": [],
   "source": [
    "import os\n",
    "import time\n",
    "import json\n",
    "import random\n",
    "import argparse\n",
    "import numpy as np\n",
    "import pandas as pd\n",
    "from tqdm import tqdm\n",
    "from os import makedirs, path\n",
    "from together import Together\n",
    "\n",
    "from utils import *\n",
    "from huggingface_hub import login as hf_login\n",
    "from datasets import concatenate_datasets, DatasetDict, load_dataset"
   ]
  },
  {
   "cell_type": "code",
   "execution_count": 2,
   "id": "6fe9b4e1-e918-408e-b1e4-693aad54bda8",
   "metadata": {},
   "outputs": [
    {
     "data": {
      "application/vnd.jupyter.widget-view+json": {
       "model_id": "77993c19386c463a9c4bdacbe3312d31",
       "version_major": 2,
       "version_minor": 0
      },
      "text/plain": [
       "VBox(children=(HTML(value='<center> <img\\nsrc=https://huggingface.co/front/assets/huggingface_logo-noborder.sv…"
      ]
     },
     "metadata": {},
     "output_type": "display_data"
    }
   ],
   "source": [
    "#-------------------\n",
    "# Parameters\n",
    "#-------------------    \n",
    "parser = argparse.ArgumentParser()\n",
    "parser.add_argument('--dataset', type=str, default='beanham/law_llm_attack')\n",
    "parser.add_argument('--data_dir', type=str, default='formatted_data/')\n",
    "parser.add_argument('--save_dir', type=str, default='probs/')\n",
    "parser.add_argument('--model_tag', type=str, default='llama_10_epoch')\n",
    "parser.add_argument('--together_key', type=str)\n",
    "args = parser.parse_args(args=[])\n",
    "## log in together ai & hugginface\n",
    "with open('model_map.json') as f:\n",
    "    model_map=json.load(f)\n",
    "client = Together(api_key=\"779d92de61a5035835e5023ca79e2e5b6124c6300c3ceb0e07e374f948554116\")\n",
    "target_model_api_key = model_map[args.model_tag]['train']['api_key']\n",
    "prob_generator = GenerateNextTokenProbAPI(client, target_model_api_key)    \n",
    "hf_login()"
   ]
  },
  {
   "cell_type": "code",
   "execution_count": 3,
   "id": "355a5567-c457-4b5d-ac5c-b8d073085833",
   "metadata": {},
   "outputs": [
    {
     "name": "stdin",
     "output_type": "stream",
     "text": [
      "\n",
      "=============================================================================================\n",
      "Please deploy the following model bh193/Meta-Llama-3.1-8B-Instruct-Reference-76d7c75c-2e90586f. The deployment might take up to 10 mins. Once the model is deployed, please proceed...\n",
      "============================================================================================= \n"
     ]
    },
    {
     "data": {
      "text/plain": [
       "''"
      ]
     },
     "execution_count": 3,
     "metadata": {},
     "output_type": "execute_result"
    }
   ],
   "source": [
    "input(f\"\"\"\n",
    "=============================================================================================\n",
    "Please deploy the following model {target_model_api_key}. The deployment might take up to 10 mins. Once the model is deployed, please proceed...\n",
    "=============================================================================================\"\"\")"
   ]
  },
  {
   "cell_type": "code",
   "execution_count": 146,
   "id": "c11bac91-843c-45e2-8566-c994be6c8add",
   "metadata": {},
   "outputs": [],
   "source": [
    "def string_to_ents(example):\n",
    "    criminal_ents=[i.replace(\"'\", \"\").replace('[', '').replace(']', '') for i in example['criminal_behaviors'].split(\"', '\")]\n",
    "    identifiable_ents=[i.replace(\"'\", \"\").replace('[', '').replace(']', '') for i in example['identifiable_info'].split(\"', '\")]\n",
    "    return {\"law_ents\":[i for i in criminal_ents+identifiable_ents if i != '']}"
   ]
  },
  {
   "cell_type": "code",
   "execution_count": 177,
   "id": "b5dec614-1270-4881-87db-bce4b08a5217",
   "metadata": {
    "scrolled": true
   },
   "outputs": [
    {
     "name": "stdout",
     "output_type": "stream",
     "text": [
      "Load & Prepare Dataset...\n"
     ]
    }
   ],
   "source": [
    "print('Load & Prepare Dataset...')\n",
    "dataset = load_dataset(args.dataset)\n",
    "all_data = concatenate_datasets([dataset['train'], dataset['val'], dataset['test']])\n",
    "new_ids = range(len(all_data))\n",
    "all_data = all_data.add_column(\"new_ID\", new_ids)\n",
    "all_data=all_data.map(string_to_ents)"
   ]
  },
  {
   "cell_type": "code",
   "execution_count": 178,
   "id": "36cddf7b-49fd-4218-b74c-181a36eb97ae",
   "metadata": {},
   "outputs": [],
   "source": [
    "## load split ids\n",
    "with open(path.join(args.data_dir, 'train_ids.txt'), 'r') as f:\n",
    "    train_ids=f.readlines()\n",
    "train_ids=[int(i.split()[0]) for i in train_ids]\n",
    "dataset_train = all_data.filter(lambda example: example['new_ID'] in train_ids)\n",
    "dataset_test = all_data.filter(lambda example: example['new_ID'] not in train_ids)"
   ]
  },
  {
   "cell_type": "code",
   "execution_count": 179,
   "id": "ec72441e-703b-4361-91c6-77b98e18012d",
   "metadata": {},
   "outputs": [],
   "source": [
    "## unseen entities\n",
    "unseen_ents = [sample['law_ents'] for sample in dataset_test if len(sample['law_ents'])<10]\n",
    "unseen_ents = [item for sublist in unseen_ents for item in sublist]\n",
    "unseen_ents = list(set(unseen_ents))"
   ]
  },
  {
   "cell_type": "code",
   "execution_count": 180,
   "id": "d848f0cf-edb6-4726-83f9-dd0fbfb81fb1",
   "metadata": {},
   "outputs": [],
   "source": [
    "## portion of dataset\n",
    "dataset_train = [sample for sample in dataset_train if len(sample['law_ents'])>=10]\n",
    "dataset_test = [sample for sample in dataset_test if len(sample['law_ents'])>=10]\n",
    "train_test_ents = {'train': dataset_train,'test': dataset_test}"
   ]
  },
  {
   "cell_type": "code",
   "execution_count": 181,
   "id": "d96e25bd-c1b5-4036-b54e-93840823747a",
   "metadata": {},
   "outputs": [
    {
     "data": {
      "text/plain": [
       "55"
      ]
     },
     "execution_count": 181,
     "metadata": {},
     "output_type": "execute_result"
    }
   ],
   "source": [
    "len(dataset_train)"
   ]
  },
  {
   "cell_type": "code",
   "execution_count": 182,
   "id": "56dc3c85-44dc-413f-8f3c-c1b1ed7f1f6d",
   "metadata": {},
   "outputs": [
    {
     "data": {
      "text/plain": [
       "79"
      ]
     },
     "execution_count": 182,
     "metadata": {},
     "output_type": "execute_result"
    }
   ],
   "source": [
    "len(dataset_test)"
   ]
  },
  {
   "cell_type": "code",
   "execution_count": 210,
   "id": "7849233f-0d29-4825-a8ac-ac18ca9b94cc",
   "metadata": {},
   "outputs": [],
   "source": [
    "results = {}\n",
    "samples=train_test_ents['train']\n",
    "ent_list=samples[0]"
   ]
  },
  {
   "cell_type": "code",
   "execution_count": 211,
   "id": "7ab484aa-eae0-4626-8e23-0d8758be6028",
   "metadata": {},
   "outputs": [],
   "source": [
    "key_name = 'train' + '_' + str(ent_list['new_ID'])\n",
    "results[key_name] = {}\n",
    "results[key_name]['y_stars'] = {}\n",
    "results[key_name]['y_NON_stars'] = {}\n",
    "ents = list(set(ent_list['law_ents']))\n",
    "k = len(ents)\n",
    "unseen_ents_for_sample = random.sample(unseen_ents, k)"
   ]
  },
  {
   "cell_type": "code",
   "execution_count": 212,
   "id": "bdd70b79-7668-45da-9d7f-f24d2d12eba8",
   "metadata": {},
   "outputs": [],
   "source": [
    "i=0\n",
    "y_star = ents[i]\n",
    "y_NON_star = unseen_ents_for_sample[i]\n",
    "results[key_name]['y_stars'][y_star] = {}\n",
    "results[key_name]['y_NON_stars'][y_NON_star] = {}\n",
    "remaining_ents = ents[:i] + ents[i+1:]\n",
    "prompt_start = PROMPT_TEMPLATE[PROMPT_TO_USE][0]\n",
    "prompt_end = PROMPT_TEMPLATE[PROMPT_TO_USE][1]\n",
    "ents_string = ', '.join(remaining_ents)\n",
    "prompt = f\"{prompt_start} {ents_string} {prompt_end}\"\n",
    "max_tokens = len(prob_generator.tokenizer(prompt)['input_ids']) + 20 ## changed from 10 to 20, for law cases"
   ]
  }
 ],
 "metadata": {
  "kernelspec": {
   "display_name": "Python 3 (ipykernel)",
   "language": "python",
   "name": "python3"
  },
  "language_info": {
   "codemirror_mode": {
    "name": "ipython",
    "version": 3
   },
   "file_extension": ".py",
   "mimetype": "text/x-python",
   "name": "python",
   "nbconvert_exporter": "python",
   "pygments_lexer": "ipython3",
   "version": "3.10.15"
  }
 },
 "nbformat": 4,
 "nbformat_minor": 5
}
