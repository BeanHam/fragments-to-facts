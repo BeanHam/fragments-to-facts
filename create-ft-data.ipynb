{
 "cells": [
  {
   "cell_type": "code",
   "execution_count": 8,
   "id": "950912e1",
   "metadata": {},
   "outputs": [],
   "source": [
    "import json\n",
    "import random\n",
    "from tqdm import tqdm\n",
    "from datasets import load_dataset, concatenate_datasets\n",
    "# from datasets import train test split\n",
    "from datasets import Dataset\n",
    "from transformers import AutoTokenizer\n",
    "import pandas as pd"
   ]
  },
  {
   "cell_type": "code",
   "execution_count": 2,
   "id": "b1f2d5f4",
   "metadata": {},
   "outputs": [],
   "source": [
    "def format_for_finetuning(data,\n",
    "                          system_message: str,\n",
    "                          tokenizer) -> str:\n",
    "    \"\"\"\n",
    "    Format data in JSON for fine-tuning an OpenAI chatbot model.\n",
    "    \"\"\"\n",
    "    \n",
    "    chat = [\n",
    "        {\"role\": \"system\", \"content\": system_message},\n",
    "        {\"role\": \"user\", \"content\": data['dialogue']},\n",
    "        {\"role\": \"assistant\", \"content\": data['section_text']},      \n",
    "    ]\n",
    "    text = tokenizer.apply_chat_template(chat, tokenize=False, add_generation_prompt=False)    \n",
    "    return json.dumps({\"text\":text})"
   ]
  },
  {
   "cell_type": "code",
   "execution_count": 3,
   "id": "3441878a",
   "metadata": {},
   "outputs": [],
   "source": [
    "def subsample_data(all_data, split_ratio=0.5):\n",
    "    total_ids = all_data['ID']\n",
    "\n",
    "    # we are sampling 50% iid of the data\n",
    "    subsampled_ids = random.sample(total_ids, int(len(total_ids) * split_ratio))\n",
    "\n",
    "    return subsampled_ids"
   ]
  },
  {
   "cell_type": "code",
   "execution_count": 6,
   "id": "34dbcaa9",
   "metadata": {
    "scrolled": true
   },
   "outputs": [],
   "source": [
    "model_id='meta-llama/Llama-3.1-8B-Instruct'\n",
    "data_name='beanham/medsum_llm_attack'\n",
    "tokenizer = AutoTokenizer.from_pretrained(model_id)\n",
    "dataset = load_dataset(data_name)\n",
    "all_data = concatenate_datasets([dataset['train'], dataset['validation'], dataset['test']])\n",
    "# randomly subset\n"
   ]
  },
  {
   "cell_type": "code",
   "execution_count": 9,
   "id": "e28f247c",
   "metadata": {},
   "outputs": [
    {
     "name": "stderr",
     "output_type": "stream",
     "text": [
      "Filter:   0%|          | 0/1329 [00:00<?, ? examples/s]"
     ]
    },
    {
     "name": "stderr",
     "output_type": "stream",
     "text": [
      "Filter: 100%|██████████| 1329/1329 [00:00<00:00, 17273.45 examples/s]\n",
      "100%|██████████| 662/662 [00:00<00:00, 9220.30it/s]\n",
      "100%|██████████| 166/166 [00:00<00:00, 8918.45it/s]\n",
      "Filter: 100%|██████████| 1329/1329 [00:00<00:00, 58703.91 examples/s]\n",
      "100%|██████████| 684/684 [00:00<00:00, 9355.63it/s]\n",
      "100%|██████████| 171/171 [00:00<00:00, 8860.55it/s]\n",
      "Filter: 100%|██████████| 1329/1329 [00:00<00:00, 59327.46 examples/s]\n",
      "100%|██████████| 676/676 [00:00<00:00, 9437.14it/s]\n",
      "100%|██████████| 170/170 [00:00<00:00, 9235.20it/s]\n",
      "Filter: 100%|██████████| 1329/1329 [00:00<00:00, 59218.42 examples/s]\n",
      "100%|██████████| 676/676 [00:00<00:00, 8964.09it/s]\n",
      "100%|██████████| 169/169 [00:00<00:00, 9106.10it/s]\n",
      "Filter: 100%|██████████| 1329/1329 [00:00<00:00, 58735.46 examples/s]\n",
      "100%|██████████| 671/671 [00:00<00:00, 5396.02it/s]\n",
      "100%|██████████| 168/168 [00:00<00:00, 8027.19it/s]\n",
      "Filter: 100%|██████████| 1329/1329 [00:00<00:00, 57792.79 examples/s]\n",
      "100%|██████████| 678/678 [00:00<00:00, 8856.49it/s]\n",
      "100%|██████████| 170/170 [00:00<00:00, 8219.29it/s]\n",
      "Filter: 100%|██████████| 1329/1329 [00:00<00:00, 60049.02 examples/s]\n",
      "100%|██████████| 692/692 [00:00<00:00, 9412.93it/s]\n",
      "100%|██████████| 173/173 [00:00<00:00, 9049.03it/s]\n",
      "Filter: 100%|██████████| 1329/1329 [00:00<00:00, 62180.47 examples/s]\n",
      "100%|██████████| 694/694 [00:00<00:00, 9372.29it/s]\n",
      "100%|██████████| 174/174 [00:00<00:00, 8951.63it/s]\n",
      "Filter: 100%|██████████| 1329/1329 [00:00<00:00, 61128.32 examples/s]\n",
      "100%|██████████| 692/692 [00:00<00:00, 9417.82it/s]\n",
      "100%|██████████| 173/173 [00:00<00:00, 8494.07it/s]\n",
      "Filter: 100%|██████████| 1329/1329 [00:00<00:00, 58943.52 examples/s]\n",
      "100%|██████████| 684/684 [00:00<00:00, 9314.50it/s]\n",
      "100%|██████████| 172/172 [00:00<00:00, 6304.52it/s]\n"
     ]
    }
   ],
   "source": [
    "system_message = \"\"\"You are a helpful medical assistant! Please help me summarize dialogues between doctors and patients.\"\"\"\n",
    "\n",
    "# model ids\n",
    "model_ids = [2, 3, 4, 5, 6, 7, 8, 9, 10, 11]\n",
    "for model_id in model_ids:\n",
    "    subsample_ids = subsample_data(all_data)\n",
    "    filtered_dataset = all_data.filter(lambda example: example['ID'] in subsample_ids)\n",
    "\n",
    "    # train test split from datasets library\n",
    "    dataset_train_val = filtered_dataset.train_test_split(test_size=0.2)\n",
    "    dataset_train = dataset_train_val['train']\n",
    "    dataset_val = dataset_train_val['test']\n",
    "    \n",
    "    data_formatted_train = '\\n'.join(\n",
    "        [format_for_finetuning(dataset_train[i], system_message, tokenizer) for i in tqdm(range(len(dataset_train)))]\n",
    "        )\n",
    "    with open(f'formatted_data/data_formatted_train_{model_id}.jsonl', 'w') as f:\n",
    "        f.write(data_formatted_train)\n",
    "\n",
    "    data_formatted_validation = '\\n'.join(\n",
    "        [format_for_finetuning(dataset_val[i], system_message, tokenizer) for i in tqdm(range(len(dataset_val)))]\n",
    "        )\n",
    "    with open(f'formatted_data/data_formatted_val_{model_id}.jsonl', 'w') as f:\n",
    "        f.write(data_formatted_validation)\n",
    "\n",
    "    df = pd.DataFrame(subsample_ids, columns=['ID'])\n",
    "    df.to_csv(f'formatted_data/subsample_ids_{model_id}.csv', index=False)"
   ]
  },
  {
   "cell_type": "code",
   "execution_count": null,
   "id": "26e3f79c",
   "metadata": {},
   "outputs": [
    {
     "name": "stdout",
     "output_type": "stream",
     "text": [
      "Data successfully saved to subsample_ids_1.csv\n"
     ]
    }
   ],
   "source": [
    "import pandas as pd\n",
    "import ast\n",
    "\n",
    "with open(\"subsample_ids_1.txt\", \"r\") as file:\n",
    "    data = file.read()\n",
    "\n",
    "data_list = ast.literal_eval(data)\n",
    "\n",
    "df = pd.DataFrame(data_list, columns=[\"ID\"])\n",
    "\n",
    "csv_file = \"subsample_ids_1.csv\"\n",
    "df.to_csv(csv_file, index=False)"
   ]
  },
  {
   "cell_type": "code",
   "execution_count": null,
   "id": "57eeb12a",
   "metadata": {},
   "outputs": [],
   "source": []
  }
 ],
 "metadata": {
  "kernelspec": {
   "display_name": "llm_attacks",
   "language": "python",
   "name": "python3"
  },
  "language_info": {
   "codemirror_mode": {
    "name": "ipython",
    "version": 3
   },
   "file_extension": ".py",
   "mimetype": "text/x-python",
   "name": "python",
   "nbconvert_exporter": "python",
   "pygments_lexer": "ipython3",
   "version": "3.10.15"
  }
 },
 "nbformat": 4,
 "nbformat_minor": 5
}
