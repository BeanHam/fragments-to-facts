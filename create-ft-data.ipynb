{
 "cells": [
  {
   "cell_type": "code",
   "execution_count": 7,
   "id": "950912e1",
   "metadata": {},
   "outputs": [],
   "source": [
    "import json\n",
    "import random\n",
    "from tqdm import tqdm\n",
    "from datasets import load_dataset, concatenate_datasets\n",
    "# from datasets import train test split\n",
    "from datasets import Dataset\n",
    "from transformers import AutoTokenizer"
   ]
  },
  {
   "cell_type": "code",
   "execution_count": 2,
   "id": "b1f2d5f4",
   "metadata": {},
   "outputs": [],
   "source": [
    "def format_for_finetuning(data,\n",
    "                          system_message: str,\n",
    "                          tokenizer) -> str:\n",
    "    \"\"\"\n",
    "    Format data in JSON for fine-tuning an OpenAI chatbot model.\n",
    "    \"\"\"\n",
    "    \n",
    "    chat = [\n",
    "        {\"role\": \"system\", \"content\": system_message},\n",
    "        {\"role\": \"user\", \"content\": data['dialogue']},\n",
    "        {\"role\": \"assistant\", \"content\": data['section_text']},      \n",
    "    ]\n",
    "    text = tokenizer.apply_chat_template(chat, tokenize=False, add_generation_prompt=False)    \n",
    "    return json.dumps({\"text\":text})"
   ]
  },
  {
   "cell_type": "code",
   "execution_count": 3,
   "id": "3441878a",
   "metadata": {},
   "outputs": [],
   "source": [
    "def subsample_data(all_data, split_ratio=0.5):\n",
    "    total_ids = all_data['ID']\n",
    "\n",
    "    # we are sampling 50% iid of the data\n",
    "    subsampled_ids = random.sample(total_ids, int(len(total_ids) * split_ratio))\n",
    "\n",
    "    return subsampled_ids"
   ]
  },
  {
   "cell_type": "code",
   "execution_count": 9,
   "id": "34dbcaa9",
   "metadata": {
    "scrolled": true
   },
   "outputs": [
    {
     "name": "stderr",
     "output_type": "stream",
     "text": [
      "Filter: 100%|██████████| 1329/1329 [00:00<00:00, 40959.28 examples/s]\n"
     ]
    }
   ],
   "source": [
    "model_id='meta-llama/Llama-3.1-8B-Instruct'\n",
    "data_name='beanham/medsum_llm_attack'\n",
    "tokenizer = AutoTokenizer.from_pretrained(model_id)\n",
    "dataset = load_dataset(data_name)\n",
    "all_data = concatenate_datasets([dataset['train'], dataset['validation'], dataset['test']])\n",
    "# randomly subset\n",
    "\n",
    "subsample_ids = subsample_data(all_data)\n",
    "filtered_dataset = all_data.filter(lambda example: example['ID'] in subsample_ids)\n",
    "\n",
    "# train test split from datasets library\n",
    "dataset_train_val = filtered_dataset.train_test_split(test_size=0.2)\n",
    "dataset_train = dataset_train_val['train']\n",
    "dataset_val = dataset_train_val['test']"
   ]
  },
  {
   "cell_type": "code",
   "execution_count": 10,
   "id": "e28f247c",
   "metadata": {},
   "outputs": [
    {
     "name": "stderr",
     "output_type": "stream",
     "text": [
      "100%|██████████| 682/682 [00:00<00:00, 5559.36it/s]\n",
      "100%|██████████| 171/171 [00:00<00:00, 8043.72it/s]\n"
     ]
    }
   ],
   "source": [
    "system_message = \"\"\"You are a helpful medical assistant! Please help me summarize dialogues between doctors and patients.\"\"\"\n",
    "\n",
    "data_formatted_train = '\\n'.join(\n",
    "    [format_for_finetuning(dataset_train[i], system_message, tokenizer) for i in tqdm(range(len(dataset_train)))]\n",
    "    )\n",
    "with open('data_formatted_train.jsonl', 'w') as f:\n",
    "    f.write(data_formatted_train)\n",
    "\n",
    "data_formatted_validation = '\\n'.join(\n",
    "    [format_for_finetuning(dataset_val[i], system_message, tokenizer) for i in tqdm(range(len(dataset_val)))]\n",
    "    )\n",
    "with open('data_formatted_val.jsonl', 'w') as f:\n",
    "    f.write(data_formatted_validation)"
   ]
  },
  {
   "cell_type": "code",
   "execution_count": 11,
   "id": "014a8a80",
   "metadata": {},
   "outputs": [],
   "source": [
    "# subsample_ids to csv\n",
    "import pandas as pd\n",
    "df = pd.DataFrame(subsample_ids, columns=['ID'])\n",
    "df.to_csv('subsample_ids.csv', index=False)"
   ]
  },
  {
   "cell_type": "code",
   "execution_count": null,
   "id": "26e3f79c",
   "metadata": {},
   "outputs": [
    {
     "name": "stdout",
     "output_type": "stream",
     "text": [
      "Data successfully saved to subsample_ids_1.csv\n"
     ]
    }
   ],
   "source": [
    "import pandas as pd\n",
    "import ast\n",
    "\n",
    "with open(\"subsample_ids_1.txt\", \"r\") as file:\n",
    "    data = file.read()\n",
    "\n",
    "data_list = ast.literal_eval(data)\n",
    "\n",
    "df = pd.DataFrame(data_list, columns=[\"ID\"])\n",
    "\n",
    "csv_file = \"subsample_ids_1.csv\"\n",
    "df.to_csv(csv_file, index=False)"
   ]
  },
  {
   "cell_type": "code",
   "execution_count": null,
   "id": "57eeb12a",
   "metadata": {},
   "outputs": [],
   "source": []
  }
 ],
 "metadata": {
  "kernelspec": {
   "display_name": "llm_attacks",
   "language": "python",
   "name": "python3"
  },
  "language_info": {
   "codemirror_mode": {
    "name": "ipython",
    "version": 3
   },
   "file_extension": ".py",
   "mimetype": "text/x-python",
   "name": "python",
   "nbconvert_exporter": "python",
   "pygments_lexer": "ipython3",
   "version": "3.10.15"
  }
 },
 "nbformat": 4,
 "nbformat_minor": 5
}
