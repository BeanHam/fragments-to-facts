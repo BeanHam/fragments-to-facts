{
 "cells": [
  {
   "cell_type": "code",
   "execution_count": 90,
   "id": "93c1675e-d969-4c0e-b86a-76f20e8b86ce",
   "metadata": {},
   "outputs": [],
   "source": [
    "import numpy as np\n",
    "import pandas as pd\n",
    "from tqdm import tqdm"
   ]
  },
  {
   "cell_type": "code",
   "execution_count": 74,
   "id": "bd424537-7b24-40e6-a7b4-f3dcee5df189",
   "metadata": {},
   "outputs": [],
   "source": [
    "def metric_calculation(data):\n",
    "    all_accuracies=[]\n",
    "    all_hammings=[]\n",
    "    all_proportions=[]\n",
    "    l=int(len(data)//3)\n",
    "    for i in tqdm(range(l)):\n",
    "        accuracy=[]\n",
    "        hamming=[]\n",
    "        proportion=[]\n",
    "        for j in range(i*3, i*3+3):\n",
    "            gt_tokens=data[j][3].lower().split()\n",
    "            decoded_tokens=data[j][4].lower().split()\n",
    "            if len(gt_tokens)==0:\n",
    "                continue                \n",
    "            min_count = min(len(gt_tokens), len(decoded_tokens))\n",
    "            gt_tokens=np.array(gt_tokens[:min_count]).reshape(-1,1)\n",
    "            decoded_tokens=np.array(decoded_tokens[:min_count]).reshape(-1,1)\n",
    "            hamming.append((gt_tokens != decoded_tokens).sum())\n",
    "            accuracy.append(np.all(gt_tokens == decoded_tokens).item())\n",
    "            proportion.append(np.isin(decoded_tokens, gt_tokens).mean())\n",
    "        if len(accuracy) == 3:\n",
    "            all_accuracies.append(accuracy)\n",
    "        if len(hamming) == 3:\n",
    "            all_hammings.append(hamming)\n",
    "        if len(proportion) == 3:\n",
    "            all_proportions.append(proportion)\n",
    "    return all_accuracies, all_hammings, all_proportions"
   ]
  },
  {
   "cell_type": "code",
   "execution_count": 75,
   "id": "fc06fbec-09ff-43e8-afc6-de1d8a2b5ccd",
   "metadata": {},
   "outputs": [],
   "source": [
    "llama10=np.load('llama_10_epoch_memorization_attack_results.npy', allow_pickle=True)\n",
    "llama1=np.load('llama_1_epoch_memorization_attack_results.npy', allow_pickle=True)"
   ]
  },
  {
   "cell_type": "code",
   "execution_count": 76,
   "id": "52f43997-3ef2-4f87-842e-207ad0400704",
   "metadata": {},
   "outputs": [
    {
     "name": "stderr",
     "output_type": "stream",
     "text": [
      "100%|███████████████████████████████████████| 531/531 [00:00<00:00, 3011.32it/s]\n",
      "100%|███████████████████████████████████████| 531/531 [00:00<00:00, 3572.92it/s]\n"
     ]
    }
   ],
   "source": [
    "l10_acc,l10_hamming,l10_prop=metric_calculation(llama10)\n",
    "l1_acc,l1_hamming,l1_prop=metric_calculation(llama1)"
   ]
  },
  {
   "cell_type": "code",
   "execution_count": 102,
   "id": "7073a65d-9112-43f7-9acf-a73afa8b8946",
   "metadata": {},
   "outputs": [
    {
     "data": {
      "text/html": [
       "<div>\n",
       "<style scoped>\n",
       "    .dataframe tbody tr th:only-of-type {\n",
       "        vertical-align: middle;\n",
       "    }\n",
       "\n",
       "    .dataframe tbody tr th {\n",
       "        vertical-align: top;\n",
       "    }\n",
       "\n",
       "    .dataframe thead th {\n",
       "        text-align: right;\n",
       "    }\n",
       "</style>\n",
       "<table border=\"1\" class=\"dataframe\">\n",
       "  <thead>\n",
       "    <tr style=\"text-align: right;\">\n",
       "      <th></th>\n",
       "      <th>length=10</th>\n",
       "      <th>length=20</th>\n",
       "      <th>length=30</th>\n",
       "    </tr>\n",
       "  </thead>\n",
       "  <tbody>\n",
       "    <tr>\n",
       "      <th>llama_10_epochs</th>\n",
       "      <td>29.077253</td>\n",
       "      <td>28.935622</td>\n",
       "      <td>25.914163</td>\n",
       "    </tr>\n",
       "    <tr>\n",
       "      <th>llama_1_epochs</th>\n",
       "      <td>31.875536</td>\n",
       "      <td>29.313305</td>\n",
       "      <td>26.236052</td>\n",
       "    </tr>\n",
       "  </tbody>\n",
       "</table>\n",
       "</div>"
      ],
      "text/plain": [
       "                 length=10  length=20  length=30\n",
       "llama_10_epochs  29.077253  28.935622  25.914163\n",
       "llama_1_epochs   31.875536  29.313305  26.236052"
      ]
     },
     "execution_count": 102,
     "metadata": {},
     "output_type": "execute_result"
    }
   ],
   "source": [
    "pd.DataFrame(\n",
    "    np.stack([np.stack(l10_hamming).mean(axis=0), np.stack(l1_hamming).mean(axis=0)]),\n",
    "    columns=['length=10','length=20','length=30'],\n",
    "    index=['llama_10_epochs','llama_1_epochs']\n",
    ")"
   ]
  },
  {
   "cell_type": "code",
   "execution_count": 103,
   "id": "df5af297-f95a-4d05-b695-3837a6de6ac9",
   "metadata": {},
   "outputs": [
    {
     "data": {
      "text/html": [
       "<div>\n",
       "<style scoped>\n",
       "    .dataframe tbody tr th:only-of-type {\n",
       "        vertical-align: middle;\n",
       "    }\n",
       "\n",
       "    .dataframe tbody tr th {\n",
       "        vertical-align: top;\n",
       "    }\n",
       "\n",
       "    .dataframe thead th {\n",
       "        text-align: right;\n",
       "    }\n",
       "</style>\n",
       "<table border=\"1\" class=\"dataframe\">\n",
       "  <thead>\n",
       "    <tr style=\"text-align: right;\">\n",
       "      <th></th>\n",
       "      <th>length=10</th>\n",
       "      <th>length=20</th>\n",
       "      <th>length=30</th>\n",
       "    </tr>\n",
       "  </thead>\n",
       "  <tbody>\n",
       "    <tr>\n",
       "      <th>llama_10_epochs</th>\n",
       "      <td>0.422597</td>\n",
       "      <td>0.360278</td>\n",
       "      <td>0.263450</td>\n",
       "    </tr>\n",
       "    <tr>\n",
       "      <th>llama_1_epochs</th>\n",
       "      <td>0.255476</td>\n",
       "      <td>0.216534</td>\n",
       "      <td>0.175672</td>\n",
       "    </tr>\n",
       "  </tbody>\n",
       "</table>\n",
       "</div>"
      ],
      "text/plain": [
       "                 length=10  length=20  length=30\n",
       "llama_10_epochs   0.422597   0.360278   0.263450\n",
       "llama_1_epochs    0.255476   0.216534   0.175672"
      ]
     },
     "execution_count": 103,
     "metadata": {},
     "output_type": "execute_result"
    }
   ],
   "source": [
    "pd.DataFrame(\n",
    "    np.stack([np.stack(l10_prop).mean(axis=0), np.stack(l1_prop).mean(axis=0)]),\n",
    "    columns=['length=10','length=20','length=30'],\n",
    "    index=['llama_10_epochs','llama_1_epochs']\n",
    ")"
   ]
  }
 ],
 "metadata": {
  "kernelspec": {
   "display_name": "Python 3 (ipykernel)",
   "language": "python",
   "name": "python3"
  },
  "language_info": {
   "codemirror_mode": {
    "name": "ipython",
    "version": 3
   },
   "file_extension": ".py",
   "mimetype": "text/x-python",
   "name": "python",
   "nbconvert_exporter": "python",
   "pygments_lexer": "ipython3",
   "version": "3.10.15"
  }
 },
 "nbformat": 4,
 "nbformat_minor": 5
}
