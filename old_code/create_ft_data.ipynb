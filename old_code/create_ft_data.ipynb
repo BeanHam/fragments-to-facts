{
 "cells": [
  {
   "cell_type": "code",
   "execution_count": 1,
   "id": "950912e1",
   "metadata": {},
   "outputs": [
    {
     "name": "stderr",
     "output_type": "stream",
     "text": [
      "/Users/lucasrosenblatt/opt/miniconda3/envs/llm_attacks/lib/python3.10/site-packages/tqdm/auto.py:21: TqdmWarning: IProgress not found. Please update jupyter and ipywidgets. See https://ipywidgets.readthedocs.io/en/stable/user_install.html\n",
      "  from .autonotebook import tqdm as notebook_tqdm\n"
     ]
    }
   ],
   "source": [
    "import json\n",
    "import random\n",
    "from tqdm import tqdm\n",
    "from datasets import load_dataset, concatenate_datasets\n",
    "# from datasets import train test split\n",
    "from datasets import Dataset\n",
    "from transformers import AutoTokenizer\n",
    "import pandas as pd"
   ]
  },
  {
   "cell_type": "code",
   "execution_count": 2,
   "id": "b1f2d5f4",
   "metadata": {},
   "outputs": [],
   "source": [
    "def format_for_finetuning(data,\n",
    "                          system_message: str,\n",
    "                          tokenizer) -> str:\n",
    "    \"\"\"\n",
    "    Format data in JSON for fine-tuning an OpenAI chatbot model.\n",
    "    \"\"\"\n",
    "    \n",
    "    chat = [\n",
    "        {\"role\": \"system\", \"content\": system_message},\n",
    "        {\"role\": \"user\", \"content\": data['dialogue']},\n",
    "        {\"role\": \"assistant\", \"content\": data['section_text']},      \n",
    "    ]\n",
    "    text = tokenizer.apply_chat_template(chat, tokenize=False, add_generation_prompt=False)\n",
    "    return json.dumps({\"text\":text})"
   ]
  },
  {
   "cell_type": "code",
   "execution_count": 29,
   "id": "3441878a",
   "metadata": {},
   "outputs": [],
   "source": [
    "def subsample_data(all_data, split_ratio=0.5):\n",
    "    total_ids = all_data['new_ID']\n",
    "\n",
    "    # we are sampling 50% iid of the data\n",
    "    subsampled_ids = random.sample(total_ids, int(len(total_ids) * split_ratio))\n",
    "\n",
    "    return subsampled_ids"
   ]
  },
  {
   "cell_type": "code",
   "execution_count": 33,
   "id": "34dbcaa9",
   "metadata": {
    "scrolled": true
   },
   "outputs": [],
   "source": [
    "model_id='meta-llama/Llama-3.1-8B-Instruct'\n",
    "data_name='beanham/medsum_llm_attack'\n",
    "tokenizer = AutoTokenizer.from_pretrained(model_id)\n",
    "dataset = load_dataset(data_name)\n",
    "all_data = concatenate_datasets([dataset['train'], dataset['validation'], dataset['test']])\n",
    "# randomly subset\n",
    "\n",
    "# new column in all_data for new index\n",
    "# dataset object\n",
    "\n",
    "new_ids = range(len(all_data))\n",
    "all_data = all_data.add_column(\"new_ID\", new_ids)"
   ]
  },
  {
   "cell_type": "code",
   "execution_count": 34,
   "id": "e28f247c",
   "metadata": {
    "scrolled": true
   },
   "outputs": [
    {
     "name": "stderr",
     "output_type": "stream",
     "text": [
      "Filter:   0%|          | 0/1329 [00:00<?, ? examples/s]Filter: 100%|██████████| 1329/1329 [00:00<00:00, 22467.49 examples/s]\n",
      "Filter: 100%|██████████| 1329/1329 [00:00<00:00, 41130.03 examples/s]\n",
      "100%|██████████| 531/531 [00:00<00:00, 7595.24it/s]\n",
      "100%|██████████| 133/133 [00:00<00:00, 7322.59it/s]\n",
      "100%|██████████| 556/556 [00:00<00:00, 7739.52it/s]\n",
      "100%|██████████| 139/139 [00:00<00:00, 6946.86it/s]\n",
      "Filter: 100%|██████████| 1329/1329 [00:00<00:00, 49932.64 examples/s]\n",
      "Filter: 100%|██████████| 1329/1329 [00:00<00:00, 36872.45 examples/s]\n",
      "100%|██████████| 531/531 [00:00<00:00, 4364.59it/s]\n",
      "100%|██████████| 133/133 [00:00<00:00, 6633.79it/s]\n",
      "100%|██████████| 511/511 [00:00<00:00, 6530.78it/s]\n",
      "100%|██████████| 128/128 [00:00<00:00, 5936.93it/s]\n",
      "Filter: 100%|██████████| 1329/1329 [00:00<00:00, 36502.78 examples/s]\n",
      "Filter: 100%|██████████| 1329/1329 [00:00<00:00, 38854.01 examples/s]\n",
      "100%|██████████| 531/531 [00:00<00:00, 6127.81it/s]\n",
      "100%|██████████| 133/133 [00:00<00:00, 5991.54it/s]\n",
      "100%|██████████| 513/513 [00:00<00:00, 6437.77it/s]\n",
      "100%|██████████| 129/129 [00:00<00:00, 5404.22it/s]\n",
      "Filter: 100%|██████████| 1329/1329 [00:00<00:00, 45267.05 examples/s]\n",
      "Filter: 100%|██████████| 1329/1329 [00:00<00:00, 39565.54 examples/s]\n",
      "100%|██████████| 531/531 [00:00<00:00, 6129.88it/s]\n",
      "100%|██████████| 133/133 [00:00<00:00, 5149.62it/s]\n",
      "100%|██████████| 536/536 [00:00<00:00, 7099.43it/s]\n",
      "100%|██████████| 135/135 [00:00<00:00, 6340.13it/s]\n",
      "Filter: 100%|██████████| 1329/1329 [00:00<00:00, 36207.82 examples/s]\n",
      "Filter: 100%|██████████| 1329/1329 [00:00<00:00, 40458.06 examples/s]\n",
      "100%|██████████| 531/531 [00:00<00:00, 6892.72it/s]\n",
      "100%|██████████| 133/133 [00:00<00:00, 5101.49it/s]\n",
      "100%|██████████| 531/531 [00:00<00:00, 7006.76it/s]\n",
      "100%|██████████| 133/133 [00:00<00:00, 7454.60it/s]\n",
      "Filter: 100%|██████████| 1329/1329 [00:00<00:00, 48874.46 examples/s]\n",
      "Filter: 100%|██████████| 1329/1329 [00:00<00:00, 43157.89 examples/s]\n",
      "100%|██████████| 531/531 [00:00<00:00, 7666.75it/s]\n",
      "100%|██████████| 133/133 [00:00<00:00, 6919.49it/s]\n",
      "100%|██████████| 538/538 [00:00<00:00, 7435.78it/s]\n",
      "100%|██████████| 135/135 [00:00<00:00, 6313.34it/s]\n",
      "Filter: 100%|██████████| 1329/1329 [00:00<00:00, 42875.39 examples/s]\n",
      "Filter: 100%|██████████| 1329/1329 [00:00<00:00, 46651.35 examples/s]\n",
      "100%|██████████| 531/531 [00:00<00:00, 7678.30it/s]\n",
      "100%|██████████| 133/133 [00:00<00:00, 6908.44it/s]\n",
      "100%|██████████| 551/551 [00:00<00:00, 7303.34it/s]\n",
      "100%|██████████| 138/138 [00:00<00:00, 794.53it/s]\n",
      "Filter: 100%|██████████| 1329/1329 [00:00<00:00, 46150.40 examples/s]\n",
      "Filter: 100%|██████████| 1329/1329 [00:00<00:00, 45170.58 examples/s]\n",
      "100%|██████████| 531/531 [00:00<00:00, 7700.23it/s]\n",
      "100%|██████████| 133/133 [00:00<00:00, 6695.90it/s]\n",
      "100%|██████████| 550/550 [00:00<00:00, 7723.98it/s]\n",
      "100%|██████████| 138/138 [00:00<00:00, 7567.58it/s]\n",
      "Filter: 100%|██████████| 1329/1329 [00:00<00:00, 45921.14 examples/s]\n",
      "Filter: 100%|██████████| 1329/1329 [00:00<00:00, 47233.23 examples/s]\n",
      "100%|██████████| 531/531 [00:00<00:00, 7681.08it/s]\n",
      "100%|██████████| 133/133 [00:00<00:00, 7298.93it/s]\n",
      "100%|██████████| 544/544 [00:00<00:00, 7676.99it/s]\n",
      "100%|██████████| 137/137 [00:00<00:00, 6531.92it/s]\n",
      "Filter: 100%|██████████| 1329/1329 [00:00<00:00, 48207.89 examples/s]\n",
      "Filter: 100%|██████████| 1329/1329 [00:00<00:00, 41916.55 examples/s]\n",
      "100%|██████████| 531/531 [00:00<00:00, 7556.36it/s]\n",
      "100%|██████████| 133/133 [00:00<00:00, 7357.36it/s]\n",
      "100%|██████████| 538/538 [00:00<00:00, 7392.13it/s]\n",
      "100%|██████████| 135/135 [00:00<00:00, 7091.10it/s]\n"
     ]
    }
   ],
   "source": [
    "system_message = \"\"\"You are a helpful medical assistant! Please help me summarize dialogues between doctors and patients.\"\"\"\n",
    "\n",
    "# model ids\n",
    "model_ids = [2, 3, 4, 5, 6, 7, 8, 9, 10, 11]\n",
    "for model_id in model_ids:\n",
    "    \n",
    "    subsample_ids = subsample_data(all_data)\n",
    "    filtered_dataset = all_data.filter(lambda example: example['new_ID'] in subsample_ids)\n",
    "\n",
    "    # train test split from datasets library\n",
    "    dataset_train_val = filtered_dataset.train_test_split(test_size=0.2)\n",
    "    dataset_train = dataset_train_val['train']\n",
    "    dataset_val = dataset_train_val['test']\n",
    "\n",
    "    # shadow model ids\n",
    "    shadow_dataset = all_data.filter(lambda example: example['ID'] not in subsample_ids)\n",
    "    shadow_dataset_train_val = shadow_dataset.train_test_split(test_size=0.2)\n",
    "    shadow_dataset_train = shadow_dataset_train_val['train']\n",
    "    shadow_dataset_val = shadow_dataset_train_val['test']\n",
    "    \n",
    "    data_formatted_train = '\\n'.join(\n",
    "        [format_for_finetuning(dataset_train[i], system_message, tokenizer) for i in tqdm(range(len(dataset_train)))]\n",
    "        )\n",
    "    with open(f'formatted_data/data_formatted_train_{model_id}.jsonl', 'w') as f:\n",
    "        f.write(data_formatted_train)\n",
    "\n",
    "    data_formatted_validation = '\\n'.join(\n",
    "        [format_for_finetuning(dataset_val[i], system_message, tokenizer) for i in tqdm(range(len(dataset_val)))]\n",
    "        )\n",
    "    with open(f'formatted_data/data_formatted_val_{model_id}.jsonl', 'w') as f:\n",
    "        f.write(data_formatted_validation)\n",
    "\n",
    "    data_formatted_shadow_train = '\\n'.join(\n",
    "        [format_for_finetuning(shadow_dataset_train[i], system_message, tokenizer) for i in tqdm(range(len(shadow_dataset_train)))]\n",
    "        )\n",
    "    with open(f'formatted_data/data_formatted_shadow_train_{model_id}.jsonl', 'w') as f:\n",
    "        f.write(data_formatted_shadow_train)\n",
    "\n",
    "    data_formatted_shadow_validation = '\\n'.join(\n",
    "        [format_for_finetuning(shadow_dataset_val[i], system_message, tokenizer) for i in tqdm(range(len(shadow_dataset_val)))]\n",
    "        )\n",
    "    with open(f'formatted_data/data_formatted_shadow_val_{model_id}.jsonl', 'w') as f:\n",
    "        f.write(data_formatted_shadow_validation)\n",
    "\n",
    "    df = pd.DataFrame(subsample_ids, columns=['new_ID'])\n",
    "    df.to_csv(f'formatted_data/subsample_ids_{model_id}.csv', index=False)\n",
    "\n",
    "    df_shadow = pd.DataFrame(shadow_dataset['new_ID'], columns=['new_ID'])\n",
    "    df_shadow.to_csv(f'formatted_data/shadow_ids_{model_id}.csv', index=False)"
   ]
  },
  {
   "cell_type": "code",
   "execution_count": null,
   "id": "26e3f79c",
   "metadata": {},
   "outputs": [
    {
     "name": "stdout",
     "output_type": "stream",
     "text": [
      "Data successfully saved to subsample_ids_1.csv\n"
     ]
    }
   ],
   "source": [
    "import pandas as pd\n",
    "import ast\n",
    "\n",
    "with open(\"subsample_ids_1.txt\", \"r\") as file:\n",
    "    data = file.read()\n",
    "\n",
    "data_list = ast.literal_eval(data)\n",
    "\n",
    "df = pd.DataFrame(data_list, columns=[\"ID\"])\n",
    "\n",
    "csv_file = \"subsample_ids_1.csv\"\n",
    "df.to_csv(csv_file, index=False)"
   ]
  },
  {
   "cell_type": "code",
   "execution_count": null,
   "id": "57eeb12a",
   "metadata": {},
   "outputs": [],
   "source": []
  }
 ],
 "metadata": {
  "kernelspec": {
   "display_name": "Python 3 (ipykernel)",
   "language": "python",
   "name": "python3"
  },
  "language_info": {
   "codemirror_mode": {
    "name": "ipython",
    "version": 3
   },
   "file_extension": ".py",
   "mimetype": "text/x-python",
   "name": "python",
   "nbconvert_exporter": "python",
   "pygments_lexer": "ipython3",
   "version": "3.11.5"
  }
 },
 "nbformat": 4,
 "nbformat_minor": 5
}
