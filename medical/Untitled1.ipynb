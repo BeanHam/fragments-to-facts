{
 "cells": [
  {
   "cell_type": "code",
   "execution_count": 1,
   "id": "8ae27b4f-afd4-4ca9-bb95-dbbf864d9317",
   "metadata": {},
   "outputs": [],
   "source": [
    "import os\n",
    "import time\n",
    "import json\n",
    "import math\n",
    "import random\n",
    "import argparse\n",
    "import numpy as np\n",
    "import pandas as pd\n",
    "from tqdm import tqdm\n",
    "from os import makedirs, path\n",
    "from together import Together\n",
    "\n",
    "from utils import *\n",
    "from huggingface_hub import login as hf_login\n",
    "from datasets import concatenate_datasets, DatasetDict, load_dataset"
   ]
  },
  {
   "cell_type": "code",
   "execution_count": 2,
   "id": "3ca6cd2e-5575-4202-af2a-c0d3bbbe7d3c",
   "metadata": {},
   "outputs": [],
   "source": [
    "client = Together(api_key=\"\")"
   ]
  },
  {
   "cell_type": "code",
   "execution_count": 3,
   "id": "d10a9ce1-7996-4e03-bbe5-8d09a8aeb46f",
   "metadata": {},
   "outputs": [],
   "source": [
    "messages = [\n",
    "    {\"role\": \"system\", \"content\": \"You are a medical expert.\"},\n",
    "    {\"role\": \"user\", \"content\": \"How are you doing today?\"}\n",
    "]"
   ]
  },
  {
   "cell_type": "code",
   "execution_count": 6,
   "id": "420ce9a6-22c2-4dbd-868e-16fbbd3f6b03",
   "metadata": {},
   "outputs": [],
   "source": [
    "response = client.chat.completions.create(\n",
    "    model=\"meta-llama/Llama-3.3-70B-Instruct-Turbo\",\n",
    "    messages=messages,\n",
    "    max_tokens=20,  ## added on 12/20/2024\n",
    "    temperature=0,\n",
    "    logprobs=True,\n",
    "    echo=True\n",
    ")"
   ]
  },
  {
   "cell_type": "code",
   "execution_count": 7,
   "id": "744e7b13-30a7-427a-8ebe-10bfadd58c2e",
   "metadata": {},
   "outputs": [
    {
     "data": {
      "text/plain": [
       "ChatCompletionResponse(id='nnkhwYf-3NKUce-92730497cef1eb3b', object=<ObjectType.ChatCompletion: 'chat.completion'>, created=1743121816, model='meta-llama/Llama-3.3-70B-Instruct-Turbo', choices=[ChatCompletionChoicesData(index=0, logprobs=LogprobsPart(tokens=['I', \"'m\", ' doing', ' well', ',', ' thank', ' you', ' for', ' asking', '.', ' As', ' a', ' medical', ' expert', ',', ' I', \"'m\", ' always', ' ready', ' to'], token_logprobs=[-2.7418137e-06, 0.0, -1.7881393e-06, -0.008117676, -9.775162e-05, -0.033691406, 0.0, 0.0, -4.7683716e-07, 0.0, -0.009521484, -2.6226044e-06, -0.00031089783, -5.9604645e-07, -1.6212463e-05, -1.0371208e-05, -0.0023040771, -0.00030136108, -0.056640625, -2.3841858e-07], token_ids=[40, 2846, 3815, 1664, 11, 9901, 499, 369, 10371, 13, 1666, 264, 6593, 6335, 11, 358, 2846, 2744, 5644, 311]), seed=13668525502520270000, finish_reason=<FinishReason.Length: 'length'>, message=ChatCompletionMessage(role=<MessageRole.ASSISTANT: 'assistant'>, content=\"I'm doing well, thank you for asking. As a medical expert, I'm always ready to\", tool_calls=[]))], prompt=[PromptPart(text='<|begin_of_text|><|start_header_id|>system<|end_header_id|>\\n\\nCutting Knowledge Date: December 2023\\nToday Date: 28 March 2025\\n\\nYou are a medical expert.<|eot_id|><|start_header_id|>user<|end_header_id|>\\n\\nHow are you doing today?<|eot_id|><|start_header_id|>assistant<|end_header_id|>\\n\\n', logprobs=LogprobsPart(tokens=['<|begin_of_text|>', '<|start_header_id|>', 'system', '<|end_header_id|>', '\\n\\n', 'Cut', 'ting', ' Knowledge', ' Date', ':', ' December', ' ', '202', '3', '\\n', 'Today', ' Date', ':', ' ', '28', ' March', ' ', '202', '5', '\\n\\n', 'You', ' are', ' a', ' medical', ' expert', '.', '<|eot_id|>', '<|start_header_id|>', 'user', '<|end_header_id|>', '\\n\\n', 'How', ' are', ' you', ' doing', ' today', '?', '<|eot_id|>', '<|start_header_id|>', 'assistant', '<|end_header_id|>', '\\n\\n'], token_logprobs=[None, -20.375, -13.5625, -14.75, -0.004699707, -13.5625, -0.24511719, -5.1875, -10.625, -0.0009841919, -11.6875, -0.0034179688, -0.375, -2.015625, -0.06591797, -5.625, -0.0023651123, -0.00012302399, -2.671875, -3.5625, -9.5, -1.1563301e-05, -0.00010204315, -7.5, -6.03125, -3.03125, -1.109375, -2.078125, -4.875, -3.421875, -3.265625, -3.5625, 0.0, -26.875, 0.0, -3.5762787e-07, -6.21875, -6.375, -5.625, -3.34375, -0.009338379, -7.65625, -12.4375, 0.0, 0.0, 0.0, 0.0], token_ids=[128000, 128006, 9125, 128007, 271, 38766, 1303, 33025, 2696, 25, 6790, 220, 2366, 18, 198, 15724, 2696, 25, 220, 1591, 5587, 220, 2366, 20, 271, 2675, 527, 264, 6593, 6335, 13, 128009, 128006, 882, 128007, 271, 4438, 527, 499, 3815, 3432, 30, 128009, 128006, 78191, 128007, 271]))], usage=UsageData(prompt_tokens=47, completion_tokens=20, total_tokens=67))"
      ]
     },
     "execution_count": 7,
     "metadata": {},
     "output_type": "execute_result"
    }
   ],
   "source": [
    "response"
   ]
  }
 ],
 "metadata": {
  "kernelspec": {
   "display_name": "Python 3 (ipykernel)",
   "language": "python",
   "name": "python3"
  },
  "language_info": {
   "codemirror_mode": {
    "name": "ipython",
    "version": 3
   },
   "file_extension": ".py",
   "mimetype": "text/x-python",
   "name": "python",
   "nbconvert_exporter": "python",
   "pygments_lexer": "ipython3",
   "version": "3.10.15"
  }
 },
 "nbformat": 4,
 "nbformat_minor": 5
}
